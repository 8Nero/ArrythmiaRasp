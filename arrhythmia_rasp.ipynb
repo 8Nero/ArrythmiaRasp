{
  "cells": [
    {
      "cell_type": "code",
      "execution_count": null,
      "metadata": {
        "colab": {
          "base_uri": "https://localhost:8080/"
        },
        "id": "daBEDBEWp8Bt",
        "outputId": "88acd486-56ee-4e5c-cfc7-ebedaeb654a8"
      },
      "outputs": [
        {
          "output_type": "stream",
          "name": "stdout",
          "text": [
            "Downloading...\n",
            "From: https://drive.google.com/uc?id=1-5zXQqKj8P4Wcd3O3u7EWhoN57VWXd_G\n",
            "To: /content/data_balanced.npz\n",
            "100% 4.41G/4.41G [00:34<00:00, 128MB/s]\n"
          ]
        }
      ],
      "source": [
        "!gdown 1-5zXQqKj8P4Wcd3O3u7EWhoN57VWXd_G #balanced dataset in .npz format"
      ]
    },
    {
      "cell_type": "code",
      "execution_count": null,
      "metadata": {
        "colab": {
          "base_uri": "https://localhost:8080/"
        },
        "id": "gNdU2rrPTB35",
        "outputId": "85831076-9aea-4137-fcb5-81b1560d4b61"
      },
      "outputs": [
        {
          "output_type": "stream",
          "name": "stdout",
          "text": [
            "Downloading...\n",
            "From: https://drive.google.com/uc?id=1I6udZ-f1tjwH3aDQVq2ZdXKso4X0fbv4\n",
            "To: /content/ecg_data.zip\n",
            "100% 1.72G/1.72G [00:17<00:00, 96.7MB/s]\n"
          ]
        }
      ],
      "source": [
        "!gdown 1I6udZ-f1tjwH3aDQVq2ZdXKso4X0fbv4 #original ECG data"
      ]
    },
    {
      "cell_type": "code",
      "execution_count": null,
      "metadata": {
        "id": "N-YF-L0eTVXQ"
      },
      "outputs": [],
      "source": [
        "!unzip -q ecg_data "
      ]
    },
    {
      "cell_type": "code",
      "execution_count": null,
      "metadata": {
        "colab": {
          "base_uri": "https://localhost:8080/"
        },
        "id": "9bd07ki-joGY",
        "outputId": "5d5ce3e3-588f-414f-f9a9-48bebaa3878d"
      },
      "outputs": [
        {
          "output_type": "stream",
          "name": "stdout",
          "text": [
            "Looking in indexes: https://pypi.org/simple, https://us-python.pkg.dev/colab-wheels/public/simple/\n",
            "Collecting ecg-plot\n",
            "  Downloading ecg_plot-0.2.8-py3-none-any.whl (9.2 kB)\n",
            "Installing collected packages: ecg-plot\n",
            "Successfully installed ecg-plot-0.2.8\n"
          ]
        }
      ],
      "source": [
        "!pip install ecg-plot\n",
        "\n",
        "import numpy as np\n",
        "import matplotlib.pyplot as plt\n",
        "%matplotlib inline\n",
        "import seaborn as sns\n",
        "import ecg_plot\n",
        "\n",
        "import tensorflow as tf\n",
        "from tensorflow import keras\n",
        "\n",
        "from keras.utils import plot_model\n",
        "from keras import layers\n",
        "\n",
        "from keras.layers import Input, Dense, Dropout, Activation \n",
        "from keras.layers import BatchNormalization, Add, Flatten, TimeDistributed\n",
        "from keras.layers import Conv1D, GlobalAveragePooling1D, MaxPool1D\n",
        "from keras.layers import MaxPooling1D, ZeroPadding1D, LSTM\n",
        "from keras.models import Sequential, Model\n",
        "from keras.utils import plot_model\n",
        "\n",
        "from keras.utils import to_categorical\n",
        "\n",
        "from sklearn.metrics import confusion_matrix\n",
        "from sklearn.utils import class_weight\n",
        "\n",
        "from scipy import optimize\n",
        "from scipy.io import loadmat\n",
        "import os\n"
      ]
    },
    {
      "cell_type": "code",
      "execution_count": null,
      "metadata": {
        "id": "SshAgukkj0W3"
      },
      "outputs": [],
      "source": [
        "def load_data(fname, x, y):\n",
        "  with open(fname, 'rb') as f:\n",
        "    np_data = np.load(f)\n",
        "    X = np_data[x]\n",
        "    Y = np_data[y]\n",
        "  return X, Y\n",
        "\n",
        "def save_data(fname, X, Y):\n",
        "  with open(fname, \"wb\") as f:\n",
        "    np.savez(f, X=X, Y=Y)\n"
      ]
    },
    {
      "cell_type": "code",
      "execution_count": null,
      "metadata": {
        "id": "7xCPVvHBdQCA",
        "colab": {
          "base_uri": "https://localhost:8080/",
          "height": 289
        },
        "outputId": "1ff9950b-98aa-45ad-db95-741b458eee4f"
      },
      "outputs": [
        {
          "output_type": "error",
          "ename": "FileNotFoundError",
          "evalue": "ignored",
          "traceback": [
            "\u001b[0;31m---------------------------------------------------------------------------\u001b[0m",
            "\u001b[0;31mFileNotFoundError\u001b[0m                         Traceback (most recent call last)",
            "\u001b[0;32m<ipython-input-12-e0830f2567e5>\u001b[0m in \u001b[0;36m<module>\u001b[0;34m\u001b[0m\n\u001b[0;32m----> 1\u001b[0;31m \u001b[0mX\u001b[0m\u001b[0;34m,\u001b[0m\u001b[0mY\u001b[0m \u001b[0;34m=\u001b[0m \u001b[0mload_data\u001b[0m\u001b[0;34m(\u001b[0m\u001b[0;34m\"ecg_data.npz\"\u001b[0m\u001b[0;34m,\u001b[0m \u001b[0;34m'X'\u001b[0m\u001b[0;34m,\u001b[0m \u001b[0;34m'Y'\u001b[0m\u001b[0;34m)\u001b[0m\u001b[0;34m\u001b[0m\u001b[0;34m\u001b[0m\u001b[0m\n\u001b[0m",
            "\u001b[0;32m<ipython-input-11-9bbe56233eed>\u001b[0m in \u001b[0;36mload_data\u001b[0;34m(fname, x, y)\u001b[0m\n\u001b[1;32m      1\u001b[0m \u001b[0;32mdef\u001b[0m \u001b[0mload_data\u001b[0m\u001b[0;34m(\u001b[0m\u001b[0mfname\u001b[0m\u001b[0;34m,\u001b[0m \u001b[0mx\u001b[0m\u001b[0;34m,\u001b[0m \u001b[0my\u001b[0m\u001b[0;34m)\u001b[0m\u001b[0;34m:\u001b[0m\u001b[0;34m\u001b[0m\u001b[0;34m\u001b[0m\u001b[0m\n\u001b[0;32m----> 2\u001b[0;31m   \u001b[0;32mwith\u001b[0m \u001b[0mopen\u001b[0m\u001b[0;34m(\u001b[0m\u001b[0mfname\u001b[0m\u001b[0;34m,\u001b[0m \u001b[0;34m'rb'\u001b[0m\u001b[0;34m)\u001b[0m \u001b[0;32mas\u001b[0m \u001b[0mf\u001b[0m\u001b[0;34m:\u001b[0m\u001b[0;34m\u001b[0m\u001b[0;34m\u001b[0m\u001b[0m\n\u001b[0m\u001b[1;32m      3\u001b[0m     \u001b[0mnp_data\u001b[0m \u001b[0;34m=\u001b[0m \u001b[0mnp\u001b[0m\u001b[0;34m.\u001b[0m\u001b[0mload\u001b[0m\u001b[0;34m(\u001b[0m\u001b[0mf\u001b[0m\u001b[0;34m)\u001b[0m\u001b[0;34m\u001b[0m\u001b[0;34m\u001b[0m\u001b[0m\n\u001b[1;32m      4\u001b[0m     \u001b[0mX\u001b[0m \u001b[0;34m=\u001b[0m \u001b[0mnp_data\u001b[0m\u001b[0;34m[\u001b[0m\u001b[0mx\u001b[0m\u001b[0;34m]\u001b[0m\u001b[0;34m\u001b[0m\u001b[0;34m\u001b[0m\u001b[0m\n\u001b[1;32m      5\u001b[0m     \u001b[0mY\u001b[0m \u001b[0;34m=\u001b[0m \u001b[0mnp_data\u001b[0m\u001b[0;34m[\u001b[0m\u001b[0my\u001b[0m\u001b[0;34m]\u001b[0m\u001b[0;34m\u001b[0m\u001b[0;34m\u001b[0m\u001b[0m\n",
            "\u001b[0;31mFileNotFoundError\u001b[0m: [Errno 2] No such file or directory: 'ecg_data.npz'"
          ]
        }
      ],
      "source": [
        "X,Y = load_data(\"ecg_data.npz\", 'X', 'Y')"
      ]
    },
    {
      "cell_type": "code",
      "source": [
        "len(Y)"
      ],
      "metadata": {
        "colab": {
          "base_uri": "https://localhost:8080/"
        },
        "id": "oEr0yP9K9948",
        "outputId": "1d1b65ce-0140-404c-8c3c-cc15aed45d86"
      },
      "execution_count": null,
      "outputs": [
        {
          "output_type": "execute_result",
          "data": {
            "text/plain": [
              "36755"
            ]
          },
          "metadata": {},
          "execution_count": 15
        }
      ]
    },
    {
      "cell_type": "markdown",
      "metadata": {
        "id": "ZCT-SQFLgS11"
      },
      "source": [
        "##Data Augmentation"
      ]
    },
    {
      "cell_type": "code",
      "execution_count": null,
      "metadata": {
        "id": "gyHcWrmagSWW"
      },
      "outputs": [],
      "source": [
        "labels = [\"SR\", \"SA\", \"SB\", \"AF\", \"AFIB\"]\n",
        "labels_bin = [\"Normal\", \"Abnormal\"]\n",
        "\n",
        "def sample(X, Y, fn_recording, label, times=1, labels=labels):\n",
        "  for i in range(times):\n",
        "    data = loadmat(\"ecg_data/data/\"+ fn_recording + \".mat\")\n",
        "    data = data['val']\n",
        "    X.append(data)\n",
        "    if label in [\"SR\", \"SA\", \"SB\"]:\n",
        "      Y.append(0)\n",
        "    else:\n",
        "      Y.append(1)\n",
        "\n",
        "def read_ecg_data():\n",
        "  X = list()\n",
        "  Y = list()\n",
        "  counter = 0\n",
        "\n",
        "  with open(\"ecg_data/labelled.txt\") as fn_label:  \n",
        "    for line in fn_label:\n",
        "      fn_recording, label = (line.strip()).split(\",\")\n",
        "      if(label == \"SB\"): #Undersampling\n",
        "        if(counter%2 == 0):\n",
        "          sample(X,Y,fn_recording, label)\n",
        "      elif((label == \"SA\") or (label == \"AFIB\")): #Oversampling\n",
        "        sample(X,Y,fn_recording,label, times=5)\n",
        "      else:\n",
        "        sample(X,Y,fn_recording,label)\n",
        "      counter += 1\n",
        "  return X, Y\n"
      ]
    },
    {
      "cell_type": "code",
      "execution_count": null,
      "metadata": {
        "id": "pIfkP2RHFOSq"
      },
      "outputs": [],
      "source": [
        "X, Y = read_ecg_data()"
      ]
    },
    {
      "cell_type": "code",
      "execution_count": null,
      "metadata": {
        "colab": {
          "base_uri": "https://localhost:8080/",
          "height": 264
        },
        "id": "WM-VsIMYuX9x",
        "outputId": "51f73da7-940d-44dc-cabb-1d0e45eeefd7"
      },
      "outputs": [
        {
          "data": {
            "image/png": "[encoded data removed]",
            "text/plain": [
              "<Figure size 432x288 with 1 Axes>"
            ]
          },
          "metadata": {},
          "output_type": "display_data"
        }
      ],
      "source": [
        "def visualize_pie(Y, labels=labels):\n",
        "  sizes = list()\n",
        "\n",
        "  for label in labels:\n",
        "    sizes.append(Y.count(label))\n",
        "\n",
        "  fig1, ax1 = plt.subplots()\n",
        "  ax1.pie(sizes, labels=labels, autopct='%1.1f%%',\n",
        "          shadow=True, startangle=90)\n",
        "  ax1.axis('equal')\n",
        "  plt.title('Augmented Dataset')\n",
        "  plt.savefig(\"pie_chart.png\")\n",
        "\n",
        "  plt.show()\n",
        "\n",
        "def compare():\n",
        "  fig, axs = plt.subplots(ncols=2, figsize=(10, 5))\n",
        "  autopct = \"%.2f\"\n",
        "  \n",
        "  sizes = list()\n",
        "  for label in labels:\n",
        "    sizes.append(Y.count(label))\n",
        "\n",
        "  iris.target.value_counts().plot.pie(autopct=autopct, ax=axs[0])\n",
        "  axs[0].set_title(\"Original\")\n",
        "  y.value_counts().plot.pie(autopct=autopct, ax=axs[1])\n",
        "  axs[1].set_title(\"Imbalanced\")\n",
        "  fig.tight_layout()\n",
        "\n",
        "visualize_pie(Y, labels=labels_bin)\n"
      ]
    },
    {
      "cell_type": "code",
      "execution_count": null,
      "metadata": {
        "id": "uEU1G7dKpq7k"
      },
      "outputs": [],
      "source": [
        "weights = class_weight.compute_class_weight(class_weight='balanced',\n",
        "                                  classes=np.unique(Y),\n",
        "                                  y=Y)"
      ]
    },
    {
      "cell_type": "code",
      "execution_count": null,
      "metadata": {
        "id": "SJ9C_cVB1pX7"
      },
      "outputs": [],
      "source": [
        "X = np.stack(X, axis=0)\n",
        "Y = to_categorical(Y,2)"
      ]
    },
    {
      "cell_type": "code",
      "execution_count": null,
      "metadata": {
        "id": "tBTwv_WUShZD"
      },
      "outputs": [],
      "source": [
        "save_data(\"data_balanced.npz\", X, Y)"
      ]
    },
    {
      "cell_type": "markdown",
      "metadata": {
        "id": "dNUroW0e0S2v"
      },
      "source": [
        "##Shuffling and dividing the dataset into training and testing set"
      ]
    },
    {
      "cell_type": "code",
      "execution_count": null,
      "metadata": {
        "id": "4nsFyH_r0bH6"
      },
      "outputs": [],
      "source": [
        "from sklearn.model_selection import train_test_split\n",
        "\n",
        "X_train, X_test, Y_train, Y_test= train_test_split(X,Y,test_size=0.20, random_state=0)\n",
        "\n",
        "del X, Y"
      ]
    },
    {
      "cell_type": "markdown",
      "metadata": {
        "id": "l9kYhtw4j9AL"
      },
      "source": [
        "#Preprocessing the data"
      ]
    },
    {
      "cell_type": "markdown",
      "metadata": {
        "id": "hnHa4pBDG7pD"
      },
      "source": [
        "##Filtering by Butterworth Low-pass and Butterworth Notch filter"
      ]
    },
    {
      "cell_type": "code",
      "execution_count": null,
      "metadata": {
        "id": "REw3-LZLj3A8"
      },
      "outputs": [],
      "source": [
        "from scipy.signal import butter, filtfilt, iirnotch\n",
        "sample_rate = 500\n",
        "\n",
        "def butter_low(cutoff, sample_rate, order):\n",
        "  nyq = 0.5 * sample_rate\n",
        "  normal_cutoff = cutoff / nyq\n",
        "  b, a = butter(order, normal_cutoff, btype='low', analog=False)\n",
        "  return b, a\n",
        "\n",
        "def filter_notch(data, cutoff, sample_rate):\n",
        "  b, a = iirnotch(cutoff, Q = 0.005, fs = sample_rate)\n",
        "  filtered_data = filtfilt(b, a, data)\n",
        "  return filtered_data\n",
        "\n",
        "def filter_lowpass(data, cutoff, sample_rate, order):\n",
        "  \n",
        "  b, a = butter_low(cutoff, sample_rate, order=order)\n",
        "  \n",
        "  filtered_data = filtfilt(b, a, data)\n",
        "  \n",
        "  return filtered_data\n",
        "\n",
        "def denoise(lead_12, sample_rate=500):\n",
        "  \"\"\"\n",
        "  lead_12 will be a numpy array of shape: (12, 5000)\n",
        "  Butterworth Low-pass cutoff frequency will be 45 Hz\n",
        "  Butterworth Notch filter's rejection frequency will be 0.05 Hz\n",
        "  \"\"\"\n",
        "  filtered_pre = filter_lowpass(lead_12, cutoff=45, sample_rate=sample_rate, order=3)\n",
        "  \n",
        "  filtered = filter_notch(filtered_pre, cutoff=0.05, sample_rate=sample_rate)\n",
        "   \n",
        "  return filtered"
      ]
    },
    {
      "cell_type": "markdown",
      "metadata": {
        "id": "lKMGfCgsrhvv"
      },
      "source": [
        "\n",
        "##Denoising and Normalizing the data\n",
        "The datasets are divided into batches and saved"
      ]
    },
    {
      "cell_type": "code",
      "execution_count": null,
      "metadata": {
        "id": "A31jIMegrlqH"
      },
      "outputs": [],
      "source": [
        "def batch_preprocess(X, Y, name, batch=2048):\n",
        "\n",
        "  X_new = list()\n",
        "  i = 0\n",
        "  size = len(X)\n",
        "\n",
        "  while(batch*i < size):\n",
        "    fname = f\"{name}_data_filtered_{i}.npz\"\n",
        "      \n",
        "    if(batch*(i+1) < size):\n",
        "      X_batch = X[i*batch:(i+1)*batch,:,:]\n",
        "      Y_batch = Y[i*batch:(i+1)*batch,:]\n",
        "    else:\n",
        "      X_batch = X[i*batch:,:,:]\n",
        "      Y_batch = Y[i*batch:,:]\n",
        "      \n",
        "    filt_ecg = denoise(X_batch)\n",
        "    norm_ecg = (filt_ecg - np.average(filt_ecg)) / (np.std(filt_ecg))\n",
        "    \n",
        "    with open(fname, 'wb') as f:\n",
        "      np.savez(f, X_batch=norm_ecg, Y_batch=Y_batch)\n",
        "    with open(fname, 'wb') as f:\n",
        "      np.savez(f, X_batch=norm_ecg, Y_batch=Y_batch)\n",
        "    \n",
        "    i += 1"
      ]
    },
    {
      "cell_type": "code",
      "execution_count": null,
      "metadata": {
        "colab": {
          "background_save": true
        },
        "id": "JAAEwLTW6bJ7"
      },
      "outputs": [],
      "source": [
        "batch_preprocess(X_train, Y_train, name=\"train\")"
      ]
    },
    {
      "cell_type": "code",
      "execution_count": null,
      "metadata": {
        "id": "DJKhZfbsx5Gs"
      },
      "outputs": [],
      "source": [
        "batch_preprocess(X_test, Y_test, name=\"test\")"
      ]
    },
    {
      "cell_type": "code",
      "source": [
        "X_test = X_test.reshape(len(X_test), 12, 5000)\n",
        "X_test = (X_test - np.average(X_test))/(np.std(X_test))"
      ],
      "metadata": {
        "id": "cdxIeX40K0VZ"
      },
      "execution_count": null,
      "outputs": []
    },
    {
      "cell_type": "code",
      "execution_count": null,
      "metadata": {
        "id": "Kqh3rbYrxwmC"
      },
      "outputs": [],
      "source": [
        "del X_train, Y_train"
      ]
    },
    {
      "cell_type": "markdown",
      "metadata": {
        "id": "ntLdKkYcy0sB"
      },
      "source": [
        "##Open batch of data"
      ]
    },
    {
      "cell_type": "code",
      "execution_count": null,
      "metadata": {
        "id": "lWY8oDl7r6OX"
      },
      "outputs": [],
      "source": [
        "def load_batch(fname, i):\n",
        "  fname = f\"{fname}_{i}.npz\"\n",
        "  X_batch, Y_batch = load_data(fname, 'X_batch', 'Y_batch')\n",
        "\n",
        "  return X_batch, Y_batch\n",
        "  "
      ]
    },
    {
      "cell_type": "markdown",
      "metadata": {
        "id": "mFd9gy9sqbKB"
      },
      "source": [
        "##Batch Generator"
      ]
    },
    {
      "cell_type": "code",
      "execution_count": null,
      "metadata": {
        "id": "TiGZaUrxqauX"
      },
      "outputs": [],
      "source": [
        "def batch_generator(fname, length=14):\n",
        "    while True:\n",
        "        for i in range(length):\n",
        "            np_data = np.load(f\"{fname}{i}.npz\")\n",
        "            X_batch = np_data['X_batch']\n",
        "            Y_batch = np_data['Y_batch']\n",
        "            yield X_batch, Y_batch\n"
      ]
    },
    {
      "cell_type": "markdown",
      "metadata": {
        "id": "vFDjm63olAnS"
      },
      "source": [
        "##Plotting ECG "
      ]
    },
    {
      "cell_type": "code",
      "execution_count": null,
      "metadata": {
        "id": "CsJJAcmtk2s7"
      },
      "outputs": [],
      "source": [
        "def plot_ecg(ecg_12, lead=0, sample_rate=500, title=\"ECG\"):\n",
        "  ecg_1 = ecg_12[lead, :]\n",
        "\n",
        "  times = np.arange(len(ecg_1))/sample_rate\n",
        "  \n",
        "  plt.figure(figsize=(12, 4))\n",
        "  plt.plot(ecg_1)\n",
        "  plt.xlabel(\"Time/seconds\")\n",
        "  plt.ylabel(\"mV\")\n",
        "  plt.title(title)\n",
        "  plt.show()\n",
        "\n",
        "def compare_ecg(ecg_12_raw, ecg_12_filt, lead=0, sample_rate=500, \n",
        "                title=\"Comparison of a Raw and Filtered ECG signal\"):\n",
        "  ecg_1 = ecg_12_raw[lead, :]\n",
        "  ecg_2 = ecg_12_filt[lead, :]\n",
        "  times = np.arange(len(ecg_1))/sample_rate\n",
        "  \n",
        "  plt.figure(figsize=(12, 4))\n",
        "  plt.plot(ecg_1, label=\"Raw ECG\", c='b')\n",
        "  plt.plot(ecg_2, label=\"Filtered ECG\", c='y')\n",
        "  plt.xlabel(\"Time/seconds\")\n",
        "  plt.ylabel(\"mV\")\n",
        "  plt.title(\"Filtering\")\n",
        "  plt.legend()\n",
        "  plt.show()\n",
        "\n",
        "def show_ecg(ecg_12, sample_rate=500, title=\"ECG\"):\n",
        "  ecg_plot.plot(ecg_12/1000, sample_rate=sample_rate, title=title)\n",
        "  ecg_plot.show()\n"
      ]
    },
    {
      "cell_type": "code",
      "execution_count": null,
      "metadata": {
        "colab": {
          "base_uri": "https://localhost:8080/",
          "height": 566
        },
        "id": "qZj4Y2PmdO7t",
        "outputId": "1685d603-5375-4672-8c2e-7adbef19e751"
      },
      "outputs": [
        {
          "data": {
            "image/png": "[encoded data removed]",
            "text/plain": [
              "<Figure size 720x518.4 with 1 Axes>"
            ]
          },
          "metadata": {},
          "output_type": "display_data"
        }
      ],
      "source": [
        "show_ecg(X[5,:,:2500],title=\"\")"
      ]
    },
    {
      "cell_type": "code",
      "execution_count": null,
      "metadata": {
        "colab": {
          "base_uri": "https://localhost:8080/",
          "height": 295
        },
        "id": "MkFIrWIgszAO",
        "outputId": "d6817739-0929-48e6-9e4f-494fdf2bb647"
      },
      "outputs": [
        {
          "data": {
            "image/png": "[encoded data removed]",
            "text/plain": [
              "<Figure size 864x288 with 1 Axes>"
            ]
          },
          "metadata": {},
          "output_type": "display_data"
        }
      ],
      "source": [
        "plot_ecg(X[0,:,:], lead=6)"
      ]
    },
    {
      "cell_type": "markdown",
      "metadata": {
        "id": "I0xKspGdzkt6"
      },
      "source": [
        "\n",
        "#Model Training"
      ]
    },
    {
      "cell_type": "markdown",
      "metadata": {
        "id": "1Snz338IxKKK"
      },
      "source": [
        "##Lenet_5"
      ]
    },
    {
      "cell_type": "code",
      "execution_count": null,
      "metadata": {
        "colab": {
          "base_uri": "https://localhost:8080/"
        },
        "id": "k1F2RU6LxJeL",
        "outputId": "7098b071-a081-40f1-90a0-6d4726b2b433"
      },
      "outputs": [
        {
          "name": "stdout",
          "output_type": "stream",
          "text": [
            "Model: \"sequential_2\"\n",
            "_________________________________________________________________\n",
            " Layer (type)                Output Shape              Param #   \n",
            "=================================================================\n",
            " conv1d_6 (Conv1D)           (None, 5000, 12)          300       \n",
            "                                                                 \n",
            " max_pooling1d_6 (MaxPooling  (None, 5000, 12)         0         \n",
            " 1D)                                                             \n",
            "                                                                 \n",
            " conv1d_7 (Conv1D)           (None, 5000, 12)          588       \n",
            "                                                                 \n",
            " max_pooling1d_7 (MaxPooling  (None, 5000, 12)         0         \n",
            " 1D)                                                             \n",
            "                                                                 \n",
            " conv1d_8 (Conv1D)           (None, 5000, 12)          1164      \n",
            "                                                                 \n",
            " max_pooling1d_8 (MaxPooling  (None, 5000, 12)         0         \n",
            " 1D)                                                             \n",
            "                                                                 \n",
            " dropout_2 (Dropout)         (None, 5000, 12)          0         \n",
            "                                                                 \n",
            " flatten_2 (Flatten)         (None, 60000)             0         \n",
            "                                                                 \n",
            " batch_normalization_2 (Batc  (None, 60000)            240000    \n",
            " hNormalization)                                                 \n",
            "                                                                 \n",
            " dense_4 (Dense)             (None, 13)                780013    \n",
            "                                                                 \n",
            " dense_5 (Dense)             (None, 13)                182       \n",
            "                                                                 \n",
            "=================================================================\n",
            "Total params: 1,022,247\n",
            "Trainable params: 902,247\n",
            "Non-trainable params: 120,000\n",
            "_________________________________________________________________\n"
          ]
        }
      ],
      "source": [
        "model3 = Sequential()\n",
        "\n",
        "model3.add(Input(shape = (5000,12)))\n",
        "\n",
        "model3.add(Conv1D(12, kernel_size=2, strides=1, padding='same', activation='relu'))\n",
        "model3.add(MaxPooling1D(pool_size=1, strides=1))\n",
        "\n",
        "model3.add(Conv1D(12, kernel_size=4, strides=1, padding='same', activation='relu'))\n",
        "model3.add(MaxPooling1D(pool_size=1, strides=1))\n",
        "\n",
        "model3.add(Conv1D(12, kernel_size=8, strides=1, padding='same', activation='relu'))\n",
        "model3.add(MaxPooling1D(pool_size=1, strides=1))\n",
        "\n",
        "model3.add(tf.keras.layers.Dropout(.3, noise_shape=None, seed=None))\n",
        "model3.add(tf.keras.layers.Flatten(data_format=None))\n",
        "model3.add(tf.keras.layers.BatchNormalization())\n",
        "\n",
        "model3.add(Dense(13, activation='relu'))\n",
        "model3.add(Dense(5, activation='softmax'))\n",
        "model3.summary()\n",
        "\n",
        "opt = tf.keras.optimizers.Adam(learning_rate=0.001)\n",
        "model3.compile(optimizer=opt,\n",
        "               loss='categorical_crossentropy',\n",
        "               metrics=['accuracy'])\n",
        "\n"
      ]
    },
    {
      "cell_type": "code",
      "execution_count": null,
      "metadata": {
        "id": "dS2kVRS705sf"
      },
      "outputs": [],
      "source": [
        "history2 = model3.fit(X_batch_re, Y_batch, epochs = 10, validation_split = 0.20, batch_size = 25, verbose = 1)"
      ]
    },
    {
      "cell_type": "markdown",
      "metadata": {
        "id": "ak8jIduw6Pzy"
      },
      "source": [
        "##Residual Networks"
      ]
    },
    {
      "cell_type": "code",
      "execution_count": null,
      "metadata": {
        "id": "pKjgknL96PHh",
        "colab": {
          "base_uri": "https://localhost:8080/"
        },
        "outputId": "36fdaac7-e3df-46c0-ae80-f695c185b33c"
      },
      "outputs": [
        {
          "output_type": "stream",
          "name": "stdout",
          "text": [
            "Model: \"model_1\"\n",
            "__________________________________________________________________________________________________\n",
            " Layer (type)                   Output Shape         Param #     Connected to                     \n",
            "==================================================================================================\n",
            " input_2 (InputLayer)           [(None, 5000, 12)]   0           []                               \n",
            "                                                                                                  \n",
            " conv1d_11 (Conv1D)             (None, 5000, 64)     6208        ['input_2[0][0]']                \n",
            "                                                                                                  \n",
            " batch_normalization_12 (BatchN  (None, 5000, 64)    256         ['conv1d_11[0][0]']              \n",
            " ormalization)                                                                                    \n",
            "                                                                                                  \n",
            " activation_9 (Activation)      (None, 5000, 64)     0           ['batch_normalization_12[0][0]'] \n",
            "                                                                                                  \n",
            " conv1d_12 (Conv1D)             (None, 5000, 64)     20544       ['activation_9[0][0]']           \n",
            "                                                                                                  \n",
            " batch_normalization_13 (BatchN  (None, 5000, 64)    256         ['conv1d_12[0][0]']              \n",
            " ormalization)                                                                                    \n",
            "                                                                                                  \n",
            " activation_10 (Activation)     (None, 5000, 64)     0           ['batch_normalization_13[0][0]'] \n",
            "                                                                                                  \n",
            " conv1d_14 (Conv1D)             (None, 5000, 64)     832         ['input_2[0][0]']                \n",
            "                                                                                                  \n",
            " conv1d_13 (Conv1D)             (None, 5000, 64)     12352       ['activation_10[0][0]']          \n",
            "                                                                                                  \n",
            " batch_normalization_15 (BatchN  (None, 5000, 64)    256         ['conv1d_14[0][0]']              \n",
            " ormalization)                                                                                    \n",
            "                                                                                                  \n",
            " batch_normalization_14 (BatchN  (None, 5000, 64)    256         ['conv1d_13[0][0]']              \n",
            " ormalization)                                                                                    \n",
            "                                                                                                  \n",
            " add_3 (Add)                    (None, 5000, 64)     0           ['batch_normalization_15[0][0]', \n",
            "                                                                  'batch_normalization_14[0][0]'] \n",
            "                                                                                                  \n",
            " activation_11 (Activation)     (None, 5000, 64)     0           ['add_3[0][0]']                  \n",
            "                                                                                                  \n",
            " conv1d_15 (Conv1D)             (None, 5000, 128)    65664       ['activation_11[0][0]']          \n",
            "                                                                                                  \n",
            " batch_normalization_16 (BatchN  (None, 5000, 128)   512         ['conv1d_15[0][0]']              \n",
            " ormalization)                                                                                    \n",
            "                                                                                                  \n",
            " activation_12 (Activation)     (None, 5000, 128)    0           ['batch_normalization_16[0][0]'] \n",
            "                                                                                                  \n",
            " conv1d_16 (Conv1D)             (None, 5000, 128)    82048       ['activation_12[0][0]']          \n",
            "                                                                                                  \n",
            " batch_normalization_17 (BatchN  (None, 5000, 128)   512         ['conv1d_16[0][0]']              \n",
            " ormalization)                                                                                    \n",
            "                                                                                                  \n",
            " activation_13 (Activation)     (None, 5000, 128)    0           ['batch_normalization_17[0][0]'] \n",
            "                                                                                                  \n",
            " conv1d_18 (Conv1D)             (None, 5000, 128)    8320        ['activation_11[0][0]']          \n",
            "                                                                                                  \n",
            " conv1d_17 (Conv1D)             (None, 5000, 128)    49280       ['activation_13[0][0]']          \n",
            "                                                                                                  \n",
            " batch_normalization_19 (BatchN  (None, 5000, 128)   512         ['conv1d_18[0][0]']              \n",
            " ormalization)                                                                                    \n",
            "                                                                                                  \n",
            " batch_normalization_18 (BatchN  (None, 5000, 128)   512         ['conv1d_17[0][0]']              \n",
            " ormalization)                                                                                    \n",
            "                                                                                                  \n",
            " add_4 (Add)                    (None, 5000, 128)    0           ['batch_normalization_19[0][0]', \n",
            "                                                                  'batch_normalization_18[0][0]'] \n",
            "                                                                                                  \n",
            " activation_14 (Activation)     (None, 5000, 128)    0           ['add_4[0][0]']                  \n",
            "                                                                                                  \n",
            " conv1d_19 (Conv1D)             (None, 5000, 128)    131200      ['activation_14[0][0]']          \n",
            "                                                                                                  \n",
            " batch_normalization_20 (BatchN  (None, 5000, 128)   512         ['conv1d_19[0][0]']              \n",
            " ormalization)                                                                                    \n",
            "                                                                                                  \n",
            " activation_15 (Activation)     (None, 5000, 128)    0           ['batch_normalization_20[0][0]'] \n",
            "                                                                                                  \n",
            " conv1d_20 (Conv1D)             (None, 5000, 128)    82048       ['activation_15[0][0]']          \n",
            "                                                                                                  \n",
            " batch_normalization_21 (BatchN  (None, 5000, 128)   512         ['conv1d_20[0][0]']              \n",
            " ormalization)                                                                                    \n",
            "                                                                                                  \n",
            " activation_16 (Activation)     (None, 5000, 128)    0           ['batch_normalization_21[0][0]'] \n",
            "                                                                                                  \n",
            " conv1d_21 (Conv1D)             (None, 5000, 128)    49280       ['activation_16[0][0]']          \n",
            "                                                                                                  \n",
            " batch_normalization_23 (BatchN  (None, 5000, 128)   512         ['activation_14[0][0]']          \n",
            " ormalization)                                                                                    \n",
            "                                                                                                  \n",
            " batch_normalization_22 (BatchN  (None, 5000, 128)   512         ['conv1d_21[0][0]']              \n",
            " ormalization)                                                                                    \n",
            "                                                                                                  \n",
            " add_5 (Add)                    (None, 5000, 128)    0           ['batch_normalization_23[0][0]', \n",
            "                                                                  'batch_normalization_22[0][0]'] \n",
            "                                                                                                  \n",
            " activation_17 (Activation)     (None, 5000, 128)    0           ['add_5[0][0]']                  \n",
            "                                                                                                  \n",
            " global_average_pooling1d_1 (Gl  (None, 128)         0           ['activation_17[0][0]']          \n",
            " obalAveragePooling1D)                                                                            \n",
            "                                                                                                  \n",
            " dense_1 (Dense)                (None, 2)            258         ['global_average_pooling1d_1[0][0\n",
            "                                                                 ]']                              \n",
            "                                                                                                  \n",
            "==================================================================================================\n",
            "Total params: 513,154\n",
            "Trainable params: 510,594\n",
            "Non-trainable params: 2,560\n",
            "__________________________________________________________________________________________________\n"
          ]
        }
      ],
      "source": [
        "def residual_network_1d():\n",
        "    n_feature_maps = 64\n",
        "    input_shape = (5000,12)\n",
        "    input_layer = Input(input_shape)\n",
        "\n",
        "    # BLOCK 1\n",
        "\n",
        "    conv_x = keras.layers.Conv1D(filters=n_feature_maps, kernel_size=8, padding='same')(input_layer)\n",
        "    conv_x = keras.layers.BatchNormalization()(conv_x)\n",
        "    conv_x = keras.layers.Activation('relu')(conv_x)\n",
        "\n",
        "    conv_y = keras.layers.Conv1D(filters=n_feature_maps, kernel_size=5, padding='same')(conv_x)\n",
        "    conv_y = keras.layers.BatchNormalization()(conv_y)\n",
        "    conv_y = keras.layers.Activation('relu')(conv_y)\n",
        "\n",
        "    conv_z = keras.layers.Conv1D(filters=n_feature_maps, kernel_size=3, padding='same')(conv_y)\n",
        "    conv_z = keras.layers.BatchNormalization()(conv_z)\n",
        "\n",
        "    # expand channels for the sum\n",
        "    shortcut_y = keras.layers.Conv1D(filters=n_feature_maps, kernel_size=1, padding='same')(input_layer)\n",
        "    shortcut_y = keras.layers.BatchNormalization()(shortcut_y)\n",
        "\n",
        "    output_block_1 = keras.layers.add([shortcut_y, conv_z])\n",
        "    output_block_1 = keras.layers.Activation('relu')(output_block_1)\n",
        "\n",
        "    # BLOCK 2\n",
        "\n",
        "    conv_x = keras.layers.Conv1D(filters=n_feature_maps * 2, kernel_size=8, padding='same')(output_block_1)\n",
        "    conv_x = keras.layers.BatchNormalization()(conv_x)\n",
        "    conv_x = keras.layers.Activation('relu')(conv_x)\n",
        "\n",
        "    conv_y = keras.layers.Conv1D(filters=n_feature_maps * 2, kernel_size=5, padding='same')(conv_x)\n",
        "    conv_y = keras.layers.BatchNormalization()(conv_y)\n",
        "    conv_y = keras.layers.Activation('relu')(conv_y)\n",
        "\n",
        "    conv_z = keras.layers.Conv1D(filters=n_feature_maps * 2, kernel_size=3, padding='same')(conv_y)\n",
        "    conv_z = keras.layers.BatchNormalization()(conv_z)\n",
        "\n",
        "    # expand channels for the sum\n",
        "    shortcut_y = keras.layers.Conv1D(filters=n_feature_maps * 2, kernel_size=1, padding='same')(output_block_1)\n",
        "    shortcut_y = keras.layers.BatchNormalization()(shortcut_y)\n",
        "\n",
        "    output_block_2 = keras.layers.add([shortcut_y, conv_z])\n",
        "    output_block_2 = keras.layers.Activation('relu')(output_block_2)\n",
        "\n",
        "    # BLOCK 3\n",
        "\n",
        "    conv_x = keras.layers.Conv1D(filters=n_feature_maps * 2, kernel_size=8, padding='same')(output_block_2)\n",
        "    conv_x = keras.layers.BatchNormalization()(conv_x)\n",
        "    conv_x = keras.layers.Activation('relu')(conv_x)\n",
        "\n",
        "    conv_y = keras.layers.Conv1D(filters=n_feature_maps * 2, kernel_size=5, padding='same')(conv_x)\n",
        "    conv_y = keras.layers.BatchNormalization()(conv_y)\n",
        "    conv_y = keras.layers.Activation('relu')(conv_y)\n",
        "\n",
        "    conv_z = keras.layers.Conv1D(filters=n_feature_maps * 2, kernel_size=3, padding='same')(conv_y)\n",
        "    conv_z = keras.layers.BatchNormalization()(conv_z)\n",
        "\n",
        "    # no need to expand channels because they are equal\n",
        "    shortcut_y = keras.layers.BatchNormalization()(output_block_2)\n",
        "\n",
        "    output_block_3 = keras.layers.add([shortcut_y, conv_z])\n",
        "    output_block_3 = keras.layers.Activation('relu')(output_block_3)\n",
        "    \n",
        "    # FINAL\n",
        "\n",
        "    gap_layer = keras.layers.GlobalAveragePooling1D()(output_block_3)\n",
        "\n",
        "    output_layer = keras.layers.Dense(2, activation='sigmoid')(gap_layer)\n",
        "\n",
        "    model = keras.models.Model(inputs=input_layer, outputs=output_layer)\n",
        "\n",
        "    model.compile(loss='binary_crossentropy',\n",
        "                  optimizer=tf.keras.optimizers.Adam(learning_rate=0.001),\n",
        "                  metrics=['accuracy']\n",
        "                  )\n",
        "\n",
        "    plot_model(model, to_file='model_plot.png', show_shapes=True, show_layer_names=True)\n",
        "\n",
        "    return model\n",
        "\n",
        "model_rn = residual_network_1d()\n",
        "model_rn.summary()"
      ]
    },
    {
      "cell_type": "code",
      "execution_count": null,
      "metadata": {
        "id": "ygSCrN0peQ2E"
      },
      "outputs": [],
      "source": [
        "weights = {0:0.82591794, 1:1.26706426}"
      ]
    },
    {
      "cell_type": "code",
      "execution_count": null,
      "metadata": {
        "id": "OFl51AVD6w0a",
        "colab": {
          "base_uri": "https://localhost:8080/"
        },
        "outputId": "3a284c06-a03a-44ce-993b-44ee157bec45"
      },
      "outputs": [
        {
          "output_type": "stream",
          "name": "stdout",
          "text": [
            "Epoch 1/5\n",
            "52/52 [==============================] - 7s 72ms/step - loss: 0.6064 - accuracy: 0.6947 - val_loss: 0.7420 - val_accuracy: 0.5341\n",
            "Epoch 2/5\n",
            "52/52 [==============================] - 3s 62ms/step - loss: 0.5186 - accuracy: 0.7399 - val_loss: 1.6974 - val_accuracy: 0.6220\n",
            "Epoch 3/5\n",
            "52/52 [==============================] - 3s 62ms/step - loss: 0.4878 - accuracy: 0.7814 - val_loss: 1.0574 - val_accuracy: 0.6756\n",
            "Epoch 4/5\n",
            "52/52 [==============================] - 3s 62ms/step - loss: 0.4488 - accuracy: 0.7900 - val_loss: 1.5751 - val_accuracy: 0.6561\n",
            "Epoch 5/5\n",
            "52/52 [==============================] - 3s 62ms/step - loss: 0.4444 - accuracy: 0.7973 - val_loss: 0.9027 - val_accuracy: 0.7146\n",
            "Epoch 1/5\n",
            "52/52 [==============================] - 3s 64ms/step - loss: 0.4571 - accuracy: 0.7833 - val_loss: 0.6485 - val_accuracy: 0.6829\n",
            "Epoch 2/5\n",
            "52/52 [==============================] - 3s 62ms/step - loss: 0.4169 - accuracy: 0.8114 - val_loss: 0.4259 - val_accuracy: 0.8415\n",
            "Epoch 3/5\n",
            "52/52 [==============================] - 3s 62ms/step - loss: 0.2938 - accuracy: 0.8883 - val_loss: 0.8229 - val_accuracy: 0.7463\n",
            "Epoch 4/5\n",
            "52/52 [==============================] - 3s 62ms/step - loss: 0.2565 - accuracy: 0.9054 - val_loss: 0.2759 - val_accuracy: 0.9024\n",
            "Epoch 5/5\n",
            "52/52 [==============================] - 3s 63ms/step - loss: 0.1662 - accuracy: 0.9414 - val_loss: 0.2892 - val_accuracy: 0.8610\n",
            "Epoch 1/5\n",
            "52/52 [==============================] - 3s 64ms/step - loss: 0.1887 - accuracy: 0.9359 - val_loss: 0.4671 - val_accuracy: 0.8463\n",
            "Epoch 2/5\n",
            "52/52 [==============================] - 3s 62ms/step - loss: 0.1423 - accuracy: 0.9536 - val_loss: 0.4518 - val_accuracy: 0.6878\n",
            "Epoch 3/5\n",
            "52/52 [==============================] - 3s 62ms/step - loss: 0.0982 - accuracy: 0.9689 - val_loss: 0.1566 - val_accuracy: 0.9756\n",
            "Epoch 4/5\n",
            "52/52 [==============================] - 3s 62ms/step - loss: 0.0821 - accuracy: 0.9780 - val_loss: 0.7913 - val_accuracy: 0.6439\n",
            "Epoch 5/5\n",
            "52/52 [==============================] - 3s 62ms/step - loss: 0.0806 - accuracy: 0.9707 - val_loss: 0.0950 - val_accuracy: 0.9854\n",
            "Epoch 1/5\n",
            "52/52 [==============================] - 3s 64ms/step - loss: 0.0875 - accuracy: 0.9719 - val_loss: 0.0918 - val_accuracy: 0.9732\n",
            "Epoch 2/5\n",
            "52/52 [==============================] - 3s 62ms/step - loss: 0.1820 - accuracy: 0.9310 - val_loss: 0.1520 - val_accuracy: 0.9561\n",
            "Epoch 3/5\n",
            "52/52 [==============================] - 3s 62ms/step - loss: 0.1055 - accuracy: 0.9585 - val_loss: 0.2078 - val_accuracy: 0.9268\n",
            "Epoch 4/5\n",
            "52/52 [==============================] - 3s 63ms/step - loss: 0.0745 - accuracy: 0.9768 - val_loss: 0.1645 - val_accuracy: 0.9317\n",
            "Epoch 5/5\n",
            "52/52 [==============================] - 3s 63ms/step - loss: 0.0614 - accuracy: 0.9835 - val_loss: 0.2129 - val_accuracy: 0.9171\n",
            "Epoch 1/5\n",
            "52/52 [==============================] - 3s 64ms/step - loss: 0.0504 - accuracy: 0.9847 - val_loss: 0.0363 - val_accuracy: 0.9927\n",
            "Epoch 2/5\n",
            "52/52 [==============================] - 3s 62ms/step - loss: 0.0500 - accuracy: 0.9878 - val_loss: 0.0397 - val_accuracy: 0.9927\n",
            "Epoch 3/5\n",
            "52/52 [==============================] - 3s 62ms/step - loss: 0.0597 - accuracy: 0.9774 - val_loss: 0.0786 - val_accuracy: 0.9829\n",
            "Epoch 4/5\n",
            "52/52 [==============================] - 3s 62ms/step - loss: 0.0451 - accuracy: 0.9866 - val_loss: 0.0306 - val_accuracy: 0.9927\n",
            "Epoch 5/5\n",
            "52/52 [==============================] - 3s 62ms/step - loss: 0.0501 - accuracy: 0.9823 - val_loss: 0.0314 - val_accuracy: 0.9927\n",
            "Epoch 1/5\n",
            "52/52 [==============================] - 3s 64ms/step - loss: 0.0380 - accuracy: 0.9884 - val_loss: 0.0423 - val_accuracy: 0.9878\n",
            "Epoch 2/5\n",
            "52/52 [==============================] - 3s 62ms/step - loss: 0.0368 - accuracy: 0.9908 - val_loss: 0.1949 - val_accuracy: 0.9293\n",
            "Epoch 3/5\n",
            "52/52 [==============================] - 3s 63ms/step - loss: 0.0314 - accuracy: 0.9939 - val_loss: 0.0635 - val_accuracy: 0.9805\n",
            "Epoch 4/5\n",
            "52/52 [==============================] - 3s 62ms/step - loss: 0.0334 - accuracy: 0.9908 - val_loss: 0.0602 - val_accuracy: 0.9829\n",
            "Epoch 5/5\n",
            "52/52 [==============================] - 3s 62ms/step - loss: 0.0250 - accuracy: 0.9945 - val_loss: 0.0672 - val_accuracy: 0.9902\n",
            "Epoch 1/5\n",
            "52/52 [==============================] - 3s 64ms/step - loss: 0.0392 - accuracy: 0.9847 - val_loss: 0.2124 - val_accuracy: 0.9098\n",
            "Epoch 2/5\n",
            "52/52 [==============================] - 3s 62ms/step - loss: 0.0680 - accuracy: 0.9762 - val_loss: 0.1167 - val_accuracy: 0.9683\n",
            "Epoch 3/5\n",
            "52/52 [==============================] - 3s 62ms/step - loss: 0.0298 - accuracy: 0.9902 - val_loss: 0.0277 - val_accuracy: 0.9927\n",
            "Epoch 4/5\n",
            "52/52 [==============================] - 3s 62ms/step - loss: 0.0413 - accuracy: 0.9835 - val_loss: 0.2905 - val_accuracy: 0.8878\n",
            "Epoch 5/5\n",
            "52/52 [==============================] - 3s 62ms/step - loss: 0.0643 - accuracy: 0.9762 - val_loss: 0.2833 - val_accuracy: 0.8732\n",
            "Epoch 1/5\n",
            "52/52 [==============================] - 3s 64ms/step - loss: 0.0783 - accuracy: 0.9689 - val_loss: 0.2396 - val_accuracy: 0.8976\n",
            "Epoch 2/5\n",
            "52/52 [==============================] - 3s 62ms/step - loss: 0.0391 - accuracy: 0.9878 - val_loss: 0.1079 - val_accuracy: 0.9707\n",
            "Epoch 3/5\n",
            "52/52 [==============================] - 3s 62ms/step - loss: 0.0341 - accuracy: 0.9890 - val_loss: 0.0683 - val_accuracy: 0.9756\n",
            "Epoch 4/5\n",
            "52/52 [==============================] - 3s 62ms/step - loss: 0.0348 - accuracy: 0.9890 - val_loss: 0.0294 - val_accuracy: 0.9902\n",
            "Epoch 5/5\n",
            "52/52 [==============================] - 3s 62ms/step - loss: 0.0287 - accuracy: 0.9915 - val_loss: 0.0525 - val_accuracy: 0.9805\n",
            "Epoch 1/5\n",
            "52/52 [==============================] - 3s 64ms/step - loss: 0.0519 - accuracy: 0.9835 - val_loss: 0.0294 - val_accuracy: 0.9902\n",
            "Epoch 2/5\n",
            "52/52 [==============================] - 3s 62ms/step - loss: 0.0356 - accuracy: 0.9902 - val_loss: 0.0378 - val_accuracy: 0.9902\n",
            "Epoch 3/5\n",
            "52/52 [==============================] - 3s 62ms/step - loss: 0.0289 - accuracy: 0.9927 - val_loss: 0.0497 - val_accuracy: 0.9829\n",
            "Epoch 4/5\n",
            "52/52 [==============================] - 3s 62ms/step - loss: 0.0225 - accuracy: 0.9945 - val_loss: 0.0298 - val_accuracy: 0.9927\n",
            "Epoch 5/5\n",
            "52/52 [==============================] - 3s 62ms/step - loss: 0.0324 - accuracy: 0.9872 - val_loss: 0.0443 - val_accuracy: 0.9927\n",
            "Epoch 1/5\n",
            "52/52 [==============================] - 3s 64ms/step - loss: 0.0544 - accuracy: 0.9866 - val_loss: 0.0710 - val_accuracy: 0.9780\n",
            "Epoch 2/5\n",
            "52/52 [==============================] - 3s 62ms/step - loss: 0.0276 - accuracy: 0.9939 - val_loss: 0.0478 - val_accuracy: 0.9854\n",
            "Epoch 3/5\n",
            "52/52 [==============================] - 3s 62ms/step - loss: 0.0290 - accuracy: 0.9915 - val_loss: 0.0519 - val_accuracy: 0.9829\n",
            "Epoch 4/5\n",
            "52/52 [==============================] - 3s 62ms/step - loss: 0.0345 - accuracy: 0.9902 - val_loss: 0.0546 - val_accuracy: 0.9829\n",
            "Epoch 5/5\n",
            "52/52 [==============================] - 3s 62ms/step - loss: 0.0255 - accuracy: 0.9921 - val_loss: 0.0813 - val_accuracy: 0.9732\n",
            "Epoch 1/5\n",
            "52/52 [==============================] - 3s 64ms/step - loss: 0.0265 - accuracy: 0.9933 - val_loss: 0.0228 - val_accuracy: 0.9951\n",
            "Epoch 2/5\n",
            "52/52 [==============================] - 3s 62ms/step - loss: 0.0191 - accuracy: 0.9927 - val_loss: 0.0130 - val_accuracy: 0.9927\n",
            "Epoch 3/5\n",
            "52/52 [==============================] - 3s 62ms/step - loss: 0.0195 - accuracy: 0.9951 - val_loss: 0.0272 - val_accuracy: 0.9927\n",
            "Epoch 4/5\n",
            "52/52 [==============================] - 3s 62ms/step - loss: 0.0140 - accuracy: 0.9963 - val_loss: 0.0167 - val_accuracy: 0.9927\n",
            "Epoch 5/5\n",
            "52/52 [==============================] - 3s 62ms/step - loss: 0.0185 - accuracy: 0.9933 - val_loss: 0.0472 - val_accuracy: 0.9829\n",
            "Epoch 1/5\n",
            "52/52 [==============================] - 3s 64ms/step - loss: 0.0599 - accuracy: 0.9817 - val_loss: 0.0679 - val_accuracy: 0.9829\n",
            "Epoch 2/5\n",
            "52/52 [==============================] - 3s 62ms/step - loss: 0.0360 - accuracy: 0.9896 - val_loss: 0.1040 - val_accuracy: 0.9707\n",
            "Epoch 3/5\n",
            "52/52 [==============================] - 3s 62ms/step - loss: 0.0307 - accuracy: 0.9890 - val_loss: 0.0412 - val_accuracy: 0.9927\n",
            "Epoch 4/5\n",
            "52/52 [==============================] - 3s 62ms/step - loss: 0.0349 - accuracy: 0.9866 - val_loss: 0.5194 - val_accuracy: 0.8366\n",
            "Epoch 5/5\n",
            "52/52 [==============================] - 3s 62ms/step - loss: 0.0566 - accuracy: 0.9799 - val_loss: 0.1562 - val_accuracy: 0.9463\n",
            "Epoch 1/5\n",
            "52/52 [==============================] - 3s 64ms/step - loss: 0.0480 - accuracy: 0.9835 - val_loss: 0.0738 - val_accuracy: 0.9756\n",
            "Epoch 2/5\n",
            "52/52 [==============================] - 3s 62ms/step - loss: 0.0372 - accuracy: 0.9915 - val_loss: 0.0445 - val_accuracy: 0.9927\n",
            "Epoch 3/5\n",
            "52/52 [==============================] - 3s 62ms/step - loss: 0.0301 - accuracy: 0.9915 - val_loss: 0.0662 - val_accuracy: 0.9756\n",
            "Epoch 4/5\n",
            "52/52 [==============================] - 3s 62ms/step - loss: 0.0437 - accuracy: 0.9853 - val_loss: 0.0881 - val_accuracy: 0.9610\n",
            "Epoch 5/5\n",
            "52/52 [==============================] - 3s 62ms/step - loss: 0.0311 - accuracy: 0.9890 - val_loss: 0.0235 - val_accuracy: 0.9951\n",
            "Epoch 1/5\n",
            "52/52 [==============================] - 3s 64ms/step - loss: 0.0339 - accuracy: 0.9896 - val_loss: 0.2533 - val_accuracy: 0.9341\n",
            "Epoch 2/5\n",
            "52/52 [==============================] - 3s 62ms/step - loss: 0.0269 - accuracy: 0.9939 - val_loss: 0.0620 - val_accuracy: 0.9780\n",
            "Epoch 3/5\n",
            "52/52 [==============================] - 3s 62ms/step - loss: 0.0274 - accuracy: 0.9902 - val_loss: 0.0935 - val_accuracy: 0.9805\n",
            "Epoch 4/5\n",
            "52/52 [==============================] - 3s 62ms/step - loss: 0.0369 - accuracy: 0.9866 - val_loss: 0.0804 - val_accuracy: 0.9780\n",
            "Epoch 5/5\n",
            "52/52 [==============================] - 3s 62ms/step - loss: 0.0229 - accuracy: 0.9951 - val_loss: 0.0789 - val_accuracy: 0.9805\n",
            "Epoch 1/5\n",
            "19/19 [==============================] - 1s 65ms/step - loss: 0.0501 - accuracy: 0.9846 - val_loss: 0.0291 - val_accuracy: 0.9864\n",
            "Epoch 2/5\n",
            "19/19 [==============================] - 1s 62ms/step - loss: 0.0304 - accuracy: 0.9880 - val_loss: 0.0207 - val_accuracy: 0.9932\n",
            "Epoch 3/5\n",
            "19/19 [==============================] - 1s 61ms/step - loss: 0.0195 - accuracy: 0.9915 - val_loss: 0.0385 - val_accuracy: 0.9864\n",
            "Epoch 4/5\n",
            "19/19 [==============================] - 1s 62ms/step - loss: 0.0148 - accuracy: 0.9983 - val_loss: 0.0161 - val_accuracy: 0.9932\n",
            "Epoch 5/5\n",
            "19/19 [==============================] - 1s 61ms/step - loss: 0.0234 - accuracy: 0.9932 - val_loss: 0.0272 - val_accuracy: 0.9864\n"
          ]
        }
      ],
      "source": [
        "for i in range(0,15):\n",
        "  X_batch, Y_batch = load_batch(\"train_data_filtered\", i)\n",
        "  X_batch = X_batch.reshape((len(X_batch),5000,12))\n",
        "  history = model_rn.fit(X_batch, \n",
        "                         Y_batch,\n",
        "                         epochs = 5, \n",
        "                         validation_split = 0.20, \n",
        "                         batch_size = 32, \n",
        "                         class_weight=weights)\n",
        "  histories.append(history)"
      ]
    },
    {
      "cell_type": "markdown",
      "metadata": {
        "id": "-yUgQlTW_Srm"
      },
      "source": [
        "##CNN-LSTM"
      ]
    },
    {
      "cell_type": "code",
      "execution_count": null,
      "metadata": {
        "id": "kCgQnusp_Oqf"
      },
      "outputs": [],
      "source": [
        "model = Sequential()\n",
        "model.add(TimeDistributed(Conv1D(filters=64, kernel_size=3, activation='relu'), \n",
        "                          input_shape=(None, 1250, 12)))\n",
        "model.add(TimeDistributed(Conv1D(filters=64, kernel_size=3, activation='relu')))\n",
        "model.add(TimeDistributed(Dropout(0.5)))\n",
        "model.add(TimeDistributed(MaxPooling1D(pool_size=2)))\n",
        "model.add(TimeDistributed(Flatten()))\n",
        "model.add(LSTM(100))\n",
        "model.add(Dropout(0.5))\n",
        "model.add(Dense(100, activation='relu'))\n",
        "model.add(Dense(5, activation='softmax'))"
      ]
    },
    {
      "cell_type": "markdown",
      "metadata": {
        "id": "NJ-7phFtCuQe"
      },
      "source": [
        "Evaluation"
      ]
    },
    {
      "cell_type": "code",
      "execution_count": null,
      "metadata": {
        "id": "MkoqGYTYHG5L"
      },
      "outputs": [],
      "source": [
        "X_train = X_train.reshape((X_train.shape[0],5000, 12))\n",
        "X_test = X_test.reshape((X_test.shape[0], 5000, 12))"
      ]
    },
    {
      "cell_type": "code",
      "execution_count": null,
      "metadata": {
        "colab": {
          "base_uri": "https://localhost:8080/",
          "height": 903
        },
        "id": "Qz3McwvyCvMY",
        "outputId": "e21d4fae-e2ab-4d57-9479-923afd49e7f1"
      },
      "outputs": [
        {
          "name": "stdout",
          "output_type": "stream",
          "text": [
            "Epoch 1/50\n",
            "460/460 [==============================] - 19s 15ms/step - loss: 1.5864 - accuracy: 0.2496\n",
            "Epoch 2/50\n",
            "460/460 [==============================] - 7s 14ms/step - loss: 1.5666 - accuracy: 0.2644\n",
            "Epoch 3/50\n",
            "460/460 [==============================] - 7s 14ms/step - loss: 1.5585 - accuracy: 0.2662\n",
            "Epoch 4/50\n",
            "460/460 [==============================] - 7s 14ms/step - loss: 1.5526 - accuracy: 0.2709\n",
            "Epoch 5/50\n",
            "460/460 [==============================] - 7s 14ms/step - loss: 1.5469 - accuracy: 0.2767\n",
            "Epoch 6/50\n",
            "460/460 [==============================] - 7s 14ms/step - loss: 1.5458 - accuracy: 0.2747\n",
            "Epoch 7/50\n",
            "460/460 [==============================] - 7s 14ms/step - loss: 1.5442 - accuracy: 0.2755\n",
            "Epoch 8/50\n",
            "460/460 [==============================] - 7s 14ms/step - loss: 1.5432 - accuracy: 0.2777\n",
            "Epoch 9/50\n",
            "460/460 [==============================] - 7s 14ms/step - loss: 1.5550 - accuracy: 0.2708\n",
            "Epoch 10/50\n",
            "460/460 [==============================] - 7s 14ms/step - loss: 1.5818 - accuracy: 0.2592\n",
            "Epoch 11/50\n",
            "460/460 [==============================] - 7s 14ms/step - loss: 1.5823 - accuracy: 0.2590\n",
            "Epoch 12/50\n",
            "460/460 [==============================] - 7s 14ms/step - loss: 1.5728 - accuracy: 0.2661\n",
            "Epoch 13/50\n",
            "460/460 [==============================] - 7s 14ms/step - loss: 1.5667 - accuracy: 0.2676\n",
            "Epoch 14/50\n",
            "460/460 [==============================] - 7s 14ms/step - loss: 1.5678 - accuracy: 0.2661\n",
            "Epoch 15/50\n",
            "460/460 [==============================] - 7s 14ms/step - loss: 1.5678 - accuracy: 0.2623\n",
            "Epoch 16/50\n",
            "105/460 [=====>........................] - ETA: 5s - loss: 1.5683 - accuracy: 0.2548"
          ]
        },
        {
          "ename": "KeyboardInterrupt",
          "evalue": "ignored",
          "output_type": "error",
          "traceback": [
            "\u001b[0;31m---------------------------------------------------------------------------\u001b[0m",
            "\u001b[0;31mKeyboardInterrupt\u001b[0m                         Traceback (most recent call last)",
            "\u001b[0;32m<ipython-input-23-05bd0e40b121>\u001b[0m in \u001b[0;36m<module>\u001b[0;34m\u001b[0m\n\u001b[1;32m      1\u001b[0m \u001b[0mmodel\u001b[0m\u001b[0;34m.\u001b[0m\u001b[0mcompile\u001b[0m\u001b[0;34m(\u001b[0m\u001b[0mloss\u001b[0m\u001b[0;34m=\u001b[0m\u001b[0;34m'categorical_crossentropy'\u001b[0m\u001b[0;34m,\u001b[0m \u001b[0moptimizer\u001b[0m\u001b[0;34m=\u001b[0m\u001b[0;34m'adam'\u001b[0m\u001b[0;34m,\u001b[0m \u001b[0mmetrics\u001b[0m\u001b[0;34m=\u001b[0m\u001b[0;34m[\u001b[0m\u001b[0;34m'accuracy'\u001b[0m\u001b[0;34m]\u001b[0m\u001b[0;34m)\u001b[0m\u001b[0;34m\u001b[0m\u001b[0;34m\u001b[0m\u001b[0m\n\u001b[1;32m      2\u001b[0m \u001b[0;31m# fit network\u001b[0m\u001b[0;34m\u001b[0m\u001b[0;34m\u001b[0m\u001b[0;34m\u001b[0m\u001b[0m\n\u001b[0;32m----> 3\u001b[0;31m \u001b[0mhistory\u001b[0m \u001b[0;34m=\u001b[0m \u001b[0mmodel\u001b[0m\u001b[0;34m.\u001b[0m\u001b[0mfit\u001b[0m\u001b[0;34m(\u001b[0m\u001b[0mX_train\u001b[0m\u001b[0;34m,\u001b[0m \u001b[0mY_train\u001b[0m\u001b[0;34m,\u001b[0m \u001b[0mepochs\u001b[0m\u001b[0;34m=\u001b[0m\u001b[0;36m50\u001b[0m\u001b[0;34m,\u001b[0m \u001b[0mbatch_size\u001b[0m\u001b[0;34m=\u001b[0m\u001b[0;36m64\u001b[0m\u001b[0;34m,\u001b[0m \u001b[0mverbose\u001b[0m\u001b[0;34m=\u001b[0m\u001b[0;36m1\u001b[0m\u001b[0;34m)\u001b[0m\u001b[0;34m\u001b[0m\u001b[0;34m\u001b[0m\u001b[0m\n\u001b[0m",
            "\u001b[0;32m/usr/local/lib/python3.7/dist-packages/keras/utils/traceback_utils.py\u001b[0m in \u001b[0;36merror_handler\u001b[0;34m(*args, **kwargs)\u001b[0m\n\u001b[1;32m     62\u001b[0m     \u001b[0mfiltered_tb\u001b[0m \u001b[0;34m=\u001b[0m \u001b[0;32mNone\u001b[0m\u001b[0;34m\u001b[0m\u001b[0;34m\u001b[0m\u001b[0m\n\u001b[1;32m     63\u001b[0m     \u001b[0;32mtry\u001b[0m\u001b[0;34m:\u001b[0m\u001b[0;34m\u001b[0m\u001b[0;34m\u001b[0m\u001b[0m\n\u001b[0;32m---> 64\u001b[0;31m       \u001b[0;32mreturn\u001b[0m \u001b[0mfn\u001b[0m\u001b[0;34m(\u001b[0m\u001b[0;34m*\u001b[0m\u001b[0margs\u001b[0m\u001b[0;34m,\u001b[0m \u001b[0;34m**\u001b[0m\u001b[0mkwargs\u001b[0m\u001b[0;34m)\u001b[0m\u001b[0;34m\u001b[0m\u001b[0;34m\u001b[0m\u001b[0m\n\u001b[0m\u001b[1;32m     65\u001b[0m     \u001b[0;32mexcept\u001b[0m \u001b[0mException\u001b[0m \u001b[0;32mas\u001b[0m \u001b[0me\u001b[0m\u001b[0;34m:\u001b[0m  \u001b[0;31m# pylint: disable=broad-except\u001b[0m\u001b[0;34m\u001b[0m\u001b[0;34m\u001b[0m\u001b[0m\n\u001b[1;32m     66\u001b[0m       \u001b[0mfiltered_tb\u001b[0m \u001b[0;34m=\u001b[0m \u001b[0m_process_traceback_frames\u001b[0m\u001b[0;34m(\u001b[0m\u001b[0me\u001b[0m\u001b[0;34m.\u001b[0m\u001b[0m__traceback__\u001b[0m\u001b[0;34m)\u001b[0m\u001b[0;34m\u001b[0m\u001b[0;34m\u001b[0m\u001b[0m\n",
            "\u001b[0;32m/usr/local/lib/python3.7/dist-packages/keras/engine/training.py\u001b[0m in \u001b[0;36mfit\u001b[0;34m(self, x, y, batch_size, epochs, verbose, callbacks, validation_split, validation_data, shuffle, class_weight, sample_weight, initial_epoch, steps_per_epoch, validation_steps, validation_batch_size, validation_freq, max_queue_size, workers, use_multiprocessing)\u001b[0m\n\u001b[1;32m   1412\u001b[0m               \u001b[0mlogs\u001b[0m \u001b[0;34m=\u001b[0m \u001b[0mtmp_logs\u001b[0m  \u001b[0;31m# No error, now safe to assign to logs.\u001b[0m\u001b[0;34m\u001b[0m\u001b[0;34m\u001b[0m\u001b[0m\n\u001b[1;32m   1413\u001b[0m               \u001b[0mend_step\u001b[0m \u001b[0;34m=\u001b[0m \u001b[0mstep\u001b[0m \u001b[0;34m+\u001b[0m \u001b[0mdata_handler\u001b[0m\u001b[0;34m.\u001b[0m\u001b[0mstep_increment\u001b[0m\u001b[0;34m\u001b[0m\u001b[0;34m\u001b[0m\u001b[0m\n\u001b[0;32m-> 1414\u001b[0;31m               \u001b[0mcallbacks\u001b[0m\u001b[0;34m.\u001b[0m\u001b[0mon_train_batch_end\u001b[0m\u001b[0;34m(\u001b[0m\u001b[0mend_step\u001b[0m\u001b[0;34m,\u001b[0m \u001b[0mlogs\u001b[0m\u001b[0;34m)\u001b[0m\u001b[0;34m\u001b[0m\u001b[0;34m\u001b[0m\u001b[0m\n\u001b[0m\u001b[1;32m   1415\u001b[0m               \u001b[0;32mif\u001b[0m \u001b[0mself\u001b[0m\u001b[0;34m.\u001b[0m\u001b[0mstop_training\u001b[0m\u001b[0;34m:\u001b[0m\u001b[0;34m\u001b[0m\u001b[0;34m\u001b[0m\u001b[0m\n\u001b[1;32m   1416\u001b[0m                 \u001b[0;32mbreak\u001b[0m\u001b[0;34m\u001b[0m\u001b[0;34m\u001b[0m\u001b[0m\n",
            "\u001b[0;32m/usr/local/lib/python3.7/dist-packages/keras/callbacks.py\u001b[0m in \u001b[0;36mon_train_batch_end\u001b[0;34m(self, batch, logs)\u001b[0m\n\u001b[1;32m    436\u001b[0m     \"\"\"\n\u001b[1;32m    437\u001b[0m     \u001b[0;32mif\u001b[0m \u001b[0mself\u001b[0m\u001b[0;34m.\u001b[0m\u001b[0m_should_call_train_batch_hooks\u001b[0m\u001b[0;34m:\u001b[0m\u001b[0;34m\u001b[0m\u001b[0;34m\u001b[0m\u001b[0m\n\u001b[0;32m--> 438\u001b[0;31m       \u001b[0mself\u001b[0m\u001b[0;34m.\u001b[0m\u001b[0m_call_batch_hook\u001b[0m\u001b[0;34m(\u001b[0m\u001b[0mModeKeys\u001b[0m\u001b[0;34m.\u001b[0m\u001b[0mTRAIN\u001b[0m\u001b[0;34m,\u001b[0m \u001b[0;34m'end'\u001b[0m\u001b[0;34m,\u001b[0m \u001b[0mbatch\u001b[0m\u001b[0;34m,\u001b[0m \u001b[0mlogs\u001b[0m\u001b[0;34m=\u001b[0m\u001b[0mlogs\u001b[0m\u001b[0;34m)\u001b[0m\u001b[0;34m\u001b[0m\u001b[0;34m\u001b[0m\u001b[0m\n\u001b[0m\u001b[1;32m    439\u001b[0m \u001b[0;34m\u001b[0m\u001b[0m\n\u001b[1;32m    440\u001b[0m   \u001b[0;32mdef\u001b[0m \u001b[0mon_test_batch_begin\u001b[0m\u001b[0;34m(\u001b[0m\u001b[0mself\u001b[0m\u001b[0;34m,\u001b[0m \u001b[0mbatch\u001b[0m\u001b[0;34m,\u001b[0m \u001b[0mlogs\u001b[0m\u001b[0;34m=\u001b[0m\u001b[0;32mNone\u001b[0m\u001b[0;34m)\u001b[0m\u001b[0;34m:\u001b[0m\u001b[0;34m\u001b[0m\u001b[0;34m\u001b[0m\u001b[0m\n",
            "\u001b[0;32m/usr/local/lib/python3.7/dist-packages/keras/callbacks.py\u001b[0m in \u001b[0;36m_call_batch_hook\u001b[0;34m(self, mode, hook, batch, logs)\u001b[0m\n\u001b[1;32m    295\u001b[0m       \u001b[0mself\u001b[0m\u001b[0;34m.\u001b[0m\u001b[0m_call_batch_begin_hook\u001b[0m\u001b[0;34m(\u001b[0m\u001b[0mmode\u001b[0m\u001b[0;34m,\u001b[0m \u001b[0mbatch\u001b[0m\u001b[0;34m,\u001b[0m \u001b[0mlogs\u001b[0m\u001b[0;34m)\u001b[0m\u001b[0;34m\u001b[0m\u001b[0;34m\u001b[0m\u001b[0m\n\u001b[1;32m    296\u001b[0m     \u001b[0;32melif\u001b[0m \u001b[0mhook\u001b[0m \u001b[0;34m==\u001b[0m \u001b[0;34m'end'\u001b[0m\u001b[0;34m:\u001b[0m\u001b[0;34m\u001b[0m\u001b[0;34m\u001b[0m\u001b[0m\n\u001b[0;32m--> 297\u001b[0;31m       \u001b[0mself\u001b[0m\u001b[0;34m.\u001b[0m\u001b[0m_call_batch_end_hook\u001b[0m\u001b[0;34m(\u001b[0m\u001b[0mmode\u001b[0m\u001b[0;34m,\u001b[0m \u001b[0mbatch\u001b[0m\u001b[0;34m,\u001b[0m \u001b[0mlogs\u001b[0m\u001b[0;34m)\u001b[0m\u001b[0;34m\u001b[0m\u001b[0;34m\u001b[0m\u001b[0m\n\u001b[0m\u001b[1;32m    298\u001b[0m     \u001b[0;32melse\u001b[0m\u001b[0;34m:\u001b[0m\u001b[0;34m\u001b[0m\u001b[0;34m\u001b[0m\u001b[0m\n\u001b[1;32m    299\u001b[0m       raise ValueError(\n",
            "\u001b[0;32m/usr/local/lib/python3.7/dist-packages/keras/callbacks.py\u001b[0m in \u001b[0;36m_call_batch_end_hook\u001b[0;34m(self, mode, batch, logs)\u001b[0m\n\u001b[1;32m    316\u001b[0m       \u001b[0mself\u001b[0m\u001b[0;34m.\u001b[0m\u001b[0m_batch_times\u001b[0m\u001b[0;34m.\u001b[0m\u001b[0mappend\u001b[0m\u001b[0;34m(\u001b[0m\u001b[0mbatch_time\u001b[0m\u001b[0;34m)\u001b[0m\u001b[0;34m\u001b[0m\u001b[0;34m\u001b[0m\u001b[0m\n\u001b[1;32m    317\u001b[0m \u001b[0;34m\u001b[0m\u001b[0m\n\u001b[0;32m--> 318\u001b[0;31m     \u001b[0mself\u001b[0m\u001b[0;34m.\u001b[0m\u001b[0m_call_batch_hook_helper\u001b[0m\u001b[0;34m(\u001b[0m\u001b[0mhook_name\u001b[0m\u001b[0;34m,\u001b[0m \u001b[0mbatch\u001b[0m\u001b[0;34m,\u001b[0m \u001b[0mlogs\u001b[0m\u001b[0;34m)\u001b[0m\u001b[0;34m\u001b[0m\u001b[0;34m\u001b[0m\u001b[0m\n\u001b[0m\u001b[1;32m    319\u001b[0m \u001b[0;34m\u001b[0m\u001b[0m\n\u001b[1;32m    320\u001b[0m     \u001b[0;32mif\u001b[0m \u001b[0mlen\u001b[0m\u001b[0;34m(\u001b[0m\u001b[0mself\u001b[0m\u001b[0;34m.\u001b[0m\u001b[0m_batch_times\u001b[0m\u001b[0;34m)\u001b[0m \u001b[0;34m>=\u001b[0m \u001b[0mself\u001b[0m\u001b[0;34m.\u001b[0m\u001b[0m_num_batches_for_timing_check\u001b[0m\u001b[0;34m:\u001b[0m\u001b[0;34m\u001b[0m\u001b[0;34m\u001b[0m\u001b[0m\n",
            "\u001b[0;32m/usr/local/lib/python3.7/dist-packages/keras/callbacks.py\u001b[0m in \u001b[0;36m_call_batch_hook_helper\u001b[0;34m(self, hook_name, batch, logs)\u001b[0m\n\u001b[1;32m    354\u001b[0m     \u001b[0;32mfor\u001b[0m \u001b[0mcallback\u001b[0m \u001b[0;32min\u001b[0m \u001b[0mself\u001b[0m\u001b[0;34m.\u001b[0m\u001b[0mcallbacks\u001b[0m\u001b[0;34m:\u001b[0m\u001b[0;34m\u001b[0m\u001b[0;34m\u001b[0m\u001b[0m\n\u001b[1;32m    355\u001b[0m       \u001b[0mhook\u001b[0m \u001b[0;34m=\u001b[0m \u001b[0mgetattr\u001b[0m\u001b[0;34m(\u001b[0m\u001b[0mcallback\u001b[0m\u001b[0;34m,\u001b[0m \u001b[0mhook_name\u001b[0m\u001b[0;34m)\u001b[0m\u001b[0;34m\u001b[0m\u001b[0;34m\u001b[0m\u001b[0m\n\u001b[0;32m--> 356\u001b[0;31m       \u001b[0mhook\u001b[0m\u001b[0;34m(\u001b[0m\u001b[0mbatch\u001b[0m\u001b[0;34m,\u001b[0m \u001b[0mlogs\u001b[0m\u001b[0;34m)\u001b[0m\u001b[0;34m\u001b[0m\u001b[0;34m\u001b[0m\u001b[0m\n\u001b[0m\u001b[1;32m    357\u001b[0m \u001b[0;34m\u001b[0m\u001b[0m\n\u001b[1;32m    358\u001b[0m     \u001b[0;32mif\u001b[0m \u001b[0mself\u001b[0m\u001b[0;34m.\u001b[0m\u001b[0m_check_timing\u001b[0m\u001b[0;34m:\u001b[0m\u001b[0;34m\u001b[0m\u001b[0;34m\u001b[0m\u001b[0m\n",
            "\u001b[0;32m/usr/local/lib/python3.7/dist-packages/keras/callbacks.py\u001b[0m in \u001b[0;36mon_train_batch_end\u001b[0;34m(self, batch, logs)\u001b[0m\n\u001b[1;32m   1032\u001b[0m \u001b[0;34m\u001b[0m\u001b[0m\n\u001b[1;32m   1033\u001b[0m   \u001b[0;32mdef\u001b[0m \u001b[0mon_train_batch_end\u001b[0m\u001b[0;34m(\u001b[0m\u001b[0mself\u001b[0m\u001b[0;34m,\u001b[0m \u001b[0mbatch\u001b[0m\u001b[0;34m,\u001b[0m \u001b[0mlogs\u001b[0m\u001b[0;34m=\u001b[0m\u001b[0;32mNone\u001b[0m\u001b[0;34m)\u001b[0m\u001b[0;34m:\u001b[0m\u001b[0;34m\u001b[0m\u001b[0;34m\u001b[0m\u001b[0m\n\u001b[0;32m-> 1034\u001b[0;31m     \u001b[0mself\u001b[0m\u001b[0;34m.\u001b[0m\u001b[0m_batch_update_progbar\u001b[0m\u001b[0;34m(\u001b[0m\u001b[0mbatch\u001b[0m\u001b[0;34m,\u001b[0m \u001b[0mlogs\u001b[0m\u001b[0;34m)\u001b[0m\u001b[0;34m\u001b[0m\u001b[0;34m\u001b[0m\u001b[0m\n\u001b[0m\u001b[1;32m   1035\u001b[0m \u001b[0;34m\u001b[0m\u001b[0m\n\u001b[1;32m   1036\u001b[0m   \u001b[0;32mdef\u001b[0m \u001b[0mon_test_batch_end\u001b[0m\u001b[0;34m(\u001b[0m\u001b[0mself\u001b[0m\u001b[0;34m,\u001b[0m \u001b[0mbatch\u001b[0m\u001b[0;34m,\u001b[0m \u001b[0mlogs\u001b[0m\u001b[0;34m=\u001b[0m\u001b[0;32mNone\u001b[0m\u001b[0;34m)\u001b[0m\u001b[0;34m:\u001b[0m\u001b[0;34m\u001b[0m\u001b[0;34m\u001b[0m\u001b[0m\n",
            "\u001b[0;32m/usr/local/lib/python3.7/dist-packages/keras/callbacks.py\u001b[0m in \u001b[0;36m_batch_update_progbar\u001b[0;34m(self, batch, logs)\u001b[0m\n\u001b[1;32m   1104\u001b[0m     \u001b[0;32mif\u001b[0m \u001b[0mself\u001b[0m\u001b[0;34m.\u001b[0m\u001b[0mverbose\u001b[0m \u001b[0;34m==\u001b[0m \u001b[0;36m1\u001b[0m\u001b[0;34m:\u001b[0m\u001b[0;34m\u001b[0m\u001b[0;34m\u001b[0m\u001b[0m\n\u001b[1;32m   1105\u001b[0m       \u001b[0;31m# Only block async when verbose = 1.\u001b[0m\u001b[0;34m\u001b[0m\u001b[0;34m\u001b[0m\u001b[0;34m\u001b[0m\u001b[0m\n\u001b[0;32m-> 1106\u001b[0;31m       \u001b[0mlogs\u001b[0m \u001b[0;34m=\u001b[0m \u001b[0mtf_utils\u001b[0m\u001b[0;34m.\u001b[0m\u001b[0msync_to_numpy_or_python_type\u001b[0m\u001b[0;34m(\u001b[0m\u001b[0mlogs\u001b[0m\u001b[0;34m)\u001b[0m\u001b[0;34m\u001b[0m\u001b[0;34m\u001b[0m\u001b[0m\n\u001b[0m\u001b[1;32m   1107\u001b[0m       \u001b[0mself\u001b[0m\u001b[0;34m.\u001b[0m\u001b[0mprogbar\u001b[0m\u001b[0;34m.\u001b[0m\u001b[0mupdate\u001b[0m\u001b[0;34m(\u001b[0m\u001b[0mself\u001b[0m\u001b[0;34m.\u001b[0m\u001b[0mseen\u001b[0m\u001b[0;34m,\u001b[0m \u001b[0mlist\u001b[0m\u001b[0;34m(\u001b[0m\u001b[0mlogs\u001b[0m\u001b[0;34m.\u001b[0m\u001b[0mitems\u001b[0m\u001b[0;34m(\u001b[0m\u001b[0;34m)\u001b[0m\u001b[0;34m)\u001b[0m\u001b[0;34m,\u001b[0m \u001b[0mfinalize\u001b[0m\u001b[0;34m=\u001b[0m\u001b[0;32mFalse\u001b[0m\u001b[0;34m)\u001b[0m\u001b[0;34m\u001b[0m\u001b[0;34m\u001b[0m\u001b[0m\n\u001b[1;32m   1108\u001b[0m \u001b[0;34m\u001b[0m\u001b[0m\n",
            "\u001b[0;32m/usr/local/lib/python3.7/dist-packages/keras/utils/tf_utils.py\u001b[0m in \u001b[0;36msync_to_numpy_or_python_type\u001b[0;34m(tensors)\u001b[0m\n\u001b[1;32m    605\u001b[0m     \u001b[0;32mreturn\u001b[0m \u001b[0mt\u001b[0m\u001b[0;34m.\u001b[0m\u001b[0mitem\u001b[0m\u001b[0;34m(\u001b[0m\u001b[0;34m)\u001b[0m \u001b[0;32mif\u001b[0m \u001b[0mnp\u001b[0m\u001b[0;34m.\u001b[0m\u001b[0mndim\u001b[0m\u001b[0;34m(\u001b[0m\u001b[0mt\u001b[0m\u001b[0;34m)\u001b[0m \u001b[0;34m==\u001b[0m \u001b[0;36m0\u001b[0m \u001b[0;32melse\u001b[0m \u001b[0mt\u001b[0m\u001b[0;34m\u001b[0m\u001b[0;34m\u001b[0m\u001b[0m\n\u001b[1;32m    606\u001b[0m \u001b[0;34m\u001b[0m\u001b[0m\n\u001b[0;32m--> 607\u001b[0;31m   \u001b[0;32mreturn\u001b[0m \u001b[0mtf\u001b[0m\u001b[0;34m.\u001b[0m\u001b[0mnest\u001b[0m\u001b[0;34m.\u001b[0m\u001b[0mmap_structure\u001b[0m\u001b[0;34m(\u001b[0m\u001b[0m_to_single_numpy_or_python_type\u001b[0m\u001b[0;34m,\u001b[0m \u001b[0mtensors\u001b[0m\u001b[0;34m)\u001b[0m\u001b[0;34m\u001b[0m\u001b[0;34m\u001b[0m\u001b[0m\n\u001b[0m\u001b[1;32m    608\u001b[0m \u001b[0;34m\u001b[0m\u001b[0m\n\u001b[1;32m    609\u001b[0m \u001b[0;34m\u001b[0m\u001b[0m\n",
            "\u001b[0;32m/usr/local/lib/python3.7/dist-packages/tensorflow/python/util/nest.py\u001b[0m in \u001b[0;36mmap_structure\u001b[0;34m(func, *structure, **kwargs)\u001b[0m\n\u001b[1;32m    914\u001b[0m \u001b[0;34m\u001b[0m\u001b[0m\n\u001b[1;32m    915\u001b[0m   return pack_sequence_as(\n\u001b[0;32m--> 916\u001b[0;31m       \u001b[0mstructure\u001b[0m\u001b[0;34m[\u001b[0m\u001b[0;36m0\u001b[0m\u001b[0;34m]\u001b[0m\u001b[0;34m,\u001b[0m \u001b[0;34m[\u001b[0m\u001b[0mfunc\u001b[0m\u001b[0;34m(\u001b[0m\u001b[0;34m*\u001b[0m\u001b[0mx\u001b[0m\u001b[0;34m)\u001b[0m \u001b[0;32mfor\u001b[0m \u001b[0mx\u001b[0m \u001b[0;32min\u001b[0m \u001b[0mentries\u001b[0m\u001b[0;34m]\u001b[0m\u001b[0;34m,\u001b[0m\u001b[0;34m\u001b[0m\u001b[0;34m\u001b[0m\u001b[0m\n\u001b[0m\u001b[1;32m    917\u001b[0m       expand_composites=expand_composites)\n\u001b[1;32m    918\u001b[0m \u001b[0;34m\u001b[0m\u001b[0m\n",
            "\u001b[0;32m/usr/local/lib/python3.7/dist-packages/tensorflow/python/util/nest.py\u001b[0m in \u001b[0;36m<listcomp>\u001b[0;34m(.0)\u001b[0m\n\u001b[1;32m    914\u001b[0m \u001b[0;34m\u001b[0m\u001b[0m\n\u001b[1;32m    915\u001b[0m   return pack_sequence_as(\n\u001b[0;32m--> 916\u001b[0;31m       \u001b[0mstructure\u001b[0m\u001b[0;34m[\u001b[0m\u001b[0;36m0\u001b[0m\u001b[0;34m]\u001b[0m\u001b[0;34m,\u001b[0m \u001b[0;34m[\u001b[0m\u001b[0mfunc\u001b[0m\u001b[0;34m(\u001b[0m\u001b[0;34m*\u001b[0m\u001b[0mx\u001b[0m\u001b[0;34m)\u001b[0m \u001b[0;32mfor\u001b[0m \u001b[0mx\u001b[0m \u001b[0;32min\u001b[0m \u001b[0mentries\u001b[0m\u001b[0;34m]\u001b[0m\u001b[0;34m,\u001b[0m\u001b[0;34m\u001b[0m\u001b[0;34m\u001b[0m\u001b[0m\n\u001b[0m\u001b[1;32m    917\u001b[0m       expand_composites=expand_composites)\n\u001b[1;32m    918\u001b[0m \u001b[0;34m\u001b[0m\u001b[0m\n",
            "\u001b[0;32m/usr/local/lib/python3.7/dist-packages/keras/utils/tf_utils.py\u001b[0m in \u001b[0;36m_to_single_numpy_or_python_type\u001b[0;34m(t)\u001b[0m\n\u001b[1;32m    599\u001b[0m     \u001b[0;31m# Don't turn ragged or sparse tensors to NumPy.\u001b[0m\u001b[0;34m\u001b[0m\u001b[0;34m\u001b[0m\u001b[0;34m\u001b[0m\u001b[0m\n\u001b[1;32m    600\u001b[0m     \u001b[0;32mif\u001b[0m \u001b[0misinstance\u001b[0m\u001b[0;34m(\u001b[0m\u001b[0mt\u001b[0m\u001b[0;34m,\u001b[0m \u001b[0mtf\u001b[0m\u001b[0;34m.\u001b[0m\u001b[0mTensor\u001b[0m\u001b[0;34m)\u001b[0m\u001b[0;34m:\u001b[0m\u001b[0;34m\u001b[0m\u001b[0;34m\u001b[0m\u001b[0m\n\u001b[0;32m--> 601\u001b[0;31m       \u001b[0mt\u001b[0m \u001b[0;34m=\u001b[0m \u001b[0mt\u001b[0m\u001b[0;34m.\u001b[0m\u001b[0mnumpy\u001b[0m\u001b[0;34m(\u001b[0m\u001b[0;34m)\u001b[0m\u001b[0;34m\u001b[0m\u001b[0;34m\u001b[0m\u001b[0m\n\u001b[0m\u001b[1;32m    602\u001b[0m     \u001b[0;31m# Strings, ragged and sparse tensors don't have .item(). Return them as-is.\u001b[0m\u001b[0;34m\u001b[0m\u001b[0;34m\u001b[0m\u001b[0;34m\u001b[0m\u001b[0m\n\u001b[1;32m    603\u001b[0m     \u001b[0;32mif\u001b[0m \u001b[0;32mnot\u001b[0m \u001b[0misinstance\u001b[0m\u001b[0;34m(\u001b[0m\u001b[0mt\u001b[0m\u001b[0;34m,\u001b[0m \u001b[0;34m(\u001b[0m\u001b[0mnp\u001b[0m\u001b[0;34m.\u001b[0m\u001b[0mndarray\u001b[0m\u001b[0;34m,\u001b[0m \u001b[0mnp\u001b[0m\u001b[0;34m.\u001b[0m\u001b[0mgeneric\u001b[0m\u001b[0;34m)\u001b[0m\u001b[0;34m)\u001b[0m\u001b[0;34m:\u001b[0m\u001b[0;34m\u001b[0m\u001b[0;34m\u001b[0m\u001b[0m\n",
            "\u001b[0;32m/usr/local/lib/python3.7/dist-packages/tensorflow/python/framework/ops.py\u001b[0m in \u001b[0;36mnumpy\u001b[0;34m(self)\u001b[0m\n\u001b[1;32m   1157\u001b[0m     \"\"\"\n\u001b[1;32m   1158\u001b[0m     \u001b[0;31m# TODO(slebedev): Consider avoiding a copy for non-CPU or remote tensors.\u001b[0m\u001b[0;34m\u001b[0m\u001b[0;34m\u001b[0m\u001b[0;34m\u001b[0m\u001b[0m\n\u001b[0;32m-> 1159\u001b[0;31m     \u001b[0mmaybe_arr\u001b[0m \u001b[0;34m=\u001b[0m \u001b[0mself\u001b[0m\u001b[0;34m.\u001b[0m\u001b[0m_numpy\u001b[0m\u001b[0;34m(\u001b[0m\u001b[0;34m)\u001b[0m  \u001b[0;31m# pylint: disable=protected-access\u001b[0m\u001b[0;34m\u001b[0m\u001b[0;34m\u001b[0m\u001b[0m\n\u001b[0m\u001b[1;32m   1160\u001b[0m     \u001b[0;32mreturn\u001b[0m \u001b[0mmaybe_arr\u001b[0m\u001b[0;34m.\u001b[0m\u001b[0mcopy\u001b[0m\u001b[0;34m(\u001b[0m\u001b[0;34m)\u001b[0m \u001b[0;32mif\u001b[0m \u001b[0misinstance\u001b[0m\u001b[0;34m(\u001b[0m\u001b[0mmaybe_arr\u001b[0m\u001b[0;34m,\u001b[0m \u001b[0mnp\u001b[0m\u001b[0;34m.\u001b[0m\u001b[0mndarray\u001b[0m\u001b[0;34m)\u001b[0m \u001b[0;32melse\u001b[0m \u001b[0mmaybe_arr\u001b[0m\u001b[0;34m\u001b[0m\u001b[0;34m\u001b[0m\u001b[0m\n\u001b[1;32m   1161\u001b[0m \u001b[0;34m\u001b[0m\u001b[0m\n",
            "\u001b[0;32m/usr/local/lib/python3.7/dist-packages/tensorflow/python/framework/ops.py\u001b[0m in \u001b[0;36m_numpy\u001b[0;34m(self)\u001b[0m\n\u001b[1;32m   1123\u001b[0m   \u001b[0;32mdef\u001b[0m \u001b[0m_numpy\u001b[0m\u001b[0;34m(\u001b[0m\u001b[0mself\u001b[0m\u001b[0;34m)\u001b[0m\u001b[0;34m:\u001b[0m\u001b[0;34m\u001b[0m\u001b[0;34m\u001b[0m\u001b[0m\n\u001b[1;32m   1124\u001b[0m     \u001b[0;32mtry\u001b[0m\u001b[0;34m:\u001b[0m\u001b[0;34m\u001b[0m\u001b[0;34m\u001b[0m\u001b[0m\n\u001b[0;32m-> 1125\u001b[0;31m       \u001b[0;32mreturn\u001b[0m \u001b[0mself\u001b[0m\u001b[0;34m.\u001b[0m\u001b[0m_numpy_internal\u001b[0m\u001b[0;34m(\u001b[0m\u001b[0;34m)\u001b[0m\u001b[0;34m\u001b[0m\u001b[0;34m\u001b[0m\u001b[0m\n\u001b[0m\u001b[1;32m   1126\u001b[0m     \u001b[0;32mexcept\u001b[0m \u001b[0mcore\u001b[0m\u001b[0;34m.\u001b[0m\u001b[0m_NotOkStatusException\u001b[0m \u001b[0;32mas\u001b[0m \u001b[0me\u001b[0m\u001b[0;34m:\u001b[0m  \u001b[0;31m# pylint: disable=protected-access\u001b[0m\u001b[0;34m\u001b[0m\u001b[0;34m\u001b[0m\u001b[0m\n\u001b[1;32m   1127\u001b[0m       \u001b[0;32mraise\u001b[0m \u001b[0mcore\u001b[0m\u001b[0;34m.\u001b[0m\u001b[0m_status_to_exception\u001b[0m\u001b[0;34m(\u001b[0m\u001b[0me\u001b[0m\u001b[0;34m)\u001b[0m \u001b[0;32mfrom\u001b[0m \u001b[0;32mNone\u001b[0m  \u001b[0;31m# pylint: disable=protected-access\u001b[0m\u001b[0;34m\u001b[0m\u001b[0;34m\u001b[0m\u001b[0m\n",
            "\u001b[0;31mKeyboardInterrupt\u001b[0m: "
          ]
        }
      ],
      "source": [
        "model.compile(loss='categorical_crossentropy', optimizer='adam', metrics=['accuracy'])\n",
        "# fit network\n",
        "history = model.fit(X_train, Y_train, epochs=50, batch_size=64, verbose=1)"
      ]
    },
    {
      "cell_type": "code",
      "execution_count": null,
      "metadata": {
        "id": "alux66RVbGKq"
      },
      "outputs": [],
      "source": [
        "del model"
      ]
    },
    {
      "cell_type": "markdown",
      "metadata": {
        "id": "2bTKey9Vwt0e"
      },
      "source": [
        "##LSTM"
      ]
    },
    {
      "cell_type": "code",
      "execution_count": null,
      "metadata": {
        "colab": {
          "base_uri": "https://localhost:8080/"
        },
        "id": "M_KMjjQQzirg",
        "outputId": "e2078caf-4bd0-466e-a05f-0aebec9d8695"
      },
      "outputs": [
        {
          "name": "stdout",
          "output_type": "stream",
          "text": [
            "Model: \"sequential_5\"\n",
            "_________________________________________________________________\n",
            " Layer (type)                Output Shape              Param #   \n",
            "=================================================================\n",
            " lstm_6 (LSTM)               (None, 5000, 64)          19712     \n",
            "                                                                 \n",
            " lstm_7 (LSTM)               (None, 64)                33024     \n",
            "                                                                 \n",
            " dense_11 (Dense)            (None, 32)                2080      \n",
            "                                                                 \n",
            " dropout_3 (Dropout)         (None, 32)                0         \n",
            "                                                                 \n",
            " dense_12 (Dense)            (None, 5)                 165       \n",
            "                                                                 \n",
            "=================================================================\n",
            "Total params: 54,981\n",
            "Trainable params: 54,981\n",
            "Non-trainable params: 0\n",
            "_________________________________________________________________\n"
          ]
        }
      ],
      "source": [
        "lstm_model = Sequential()\n",
        "lstm_model.add(LSTM(64, input_shape=(5000,12), return_sequences=True))\n",
        "lstm_model.add(LSTM(64))\n",
        "lstm_model.add(Dense(32, activation = 'relu'))\n",
        "lstm_model.add(Dropout(0.3))\n",
        "lstm_model.add(Dense(5, activation = 'softmax'))\n",
        "\n",
        "lstm_model.compile(optimizer=opt,\n",
        "                  loss='categorical_crossentropy',\n",
        "                  metrics=['accuracy'])\n",
        "\n",
        "lstm_model.summary()"
      ]
    },
    {
      "cell_type": "code",
      "execution_count": null,
      "metadata": {
        "colab": {
          "base_uri": "https://localhost:8080/"
        },
        "id": "g5sM6SW05sCg",
        "outputId": "d5db0ade-9545-48b5-d71e-9418f7011c49"
      },
      "outputs": [
        {
          "name": "stdout",
          "output_type": "stream",
          "text": [
            "Epoch 1/20\n",
            "941/941 [==============================] - 315s 326ms/step - loss: 1.5493 - accuracy: 0.2778 - val_loss: 1.5327 - val_accuracy: 0.2908\n",
            "Epoch 2/20\n",
            "941/941 [==============================] - 301s 320ms/step - loss: 1.5377 - accuracy: 0.2870 - val_loss: 1.5317 - val_accuracy: 0.3093\n",
            "Epoch 3/20\n",
            "941/941 [==============================] - 303s 322ms/step - loss: 1.5352 - accuracy: 0.2898 - val_loss: 1.5314 - val_accuracy: 0.3045\n",
            "Epoch 4/20\n",
            "941/941 [==============================] - 303s 322ms/step - loss: 1.5330 - accuracy: 0.2889 - val_loss: 1.5299 - val_accuracy: 0.3098\n",
            "Epoch 5/20\n",
            "941/941 [==============================] - 302s 321ms/step - loss: 1.5239 - accuracy: 0.3031 - val_loss: 1.5236 - val_accuracy: 0.3035\n",
            "Epoch 6/20\n",
            "941/941 [==============================] - 302s 321ms/step - loss: 1.4371 - accuracy: 0.3718 - val_loss: 1.3781 - val_accuracy: 0.4052\n",
            "Epoch 7/20\n",
            "941/941 [==============================] - 302s 321ms/step - loss: 1.3670 - accuracy: 0.4134 - val_loss: 1.2990 - val_accuracy: 0.4458\n",
            "Epoch 8/20\n",
            "941/941 [==============================] - 301s 320ms/step - loss: 1.2825 - accuracy: 0.4612 - val_loss: 1.2394 - val_accuracy: 0.4802\n",
            "Epoch 9/20\n",
            "941/941 [==============================] - 301s 320ms/step - loss: 1.1564 - accuracy: 0.5262 - val_loss: 1.1413 - val_accuracy: 0.5336\n",
            "Epoch 10/20\n",
            "941/941 [==============================] - 301s 320ms/step - loss: 1.0828 - accuracy: 0.5593 - val_loss: 1.0971 - val_accuracy: 0.5509\n",
            "Epoch 11/20\n",
            "941/941 [==============================] - 303s 322ms/step - loss: 1.0261 - accuracy: 0.5800 - val_loss: 0.9631 - val_accuracy: 0.5924\n",
            "Epoch 12/20\n",
            "941/941 [==============================] - 301s 320ms/step - loss: 0.8941 - accuracy: 0.6272 - val_loss: 0.8138 - val_accuracy: 0.6495\n",
            "Epoch 13/20\n",
            "941/941 [==============================] - 301s 320ms/step - loss: 0.8384 - accuracy: 0.6443 - val_loss: 0.7483 - val_accuracy: 0.6643\n",
            "Epoch 14/20\n",
            "941/941 [==============================] - 302s 321ms/step - loss: 1.2337 - accuracy: 0.4650 - val_loss: 0.9415 - val_accuracy: 0.6055\n",
            "Epoch 15/20\n",
            "941/941 [==============================] - 301s 320ms/step - loss: 0.9234 - accuracy: 0.6110 - val_loss: 0.8010 - val_accuracy: 0.6502\n",
            "Epoch 16/20\n",
            "941/941 [==============================] - 301s 320ms/step - loss: 0.8212 - accuracy: 0.6461 - val_loss: 0.7865 - val_accuracy: 0.6543\n",
            "Epoch 17/20\n",
            "941/941 [==============================] - 302s 321ms/step - loss: 0.7843 - accuracy: 0.6605 - val_loss: 0.7336 - val_accuracy: 0.6752\n",
            "Epoch 18/20\n",
            "941/941 [==============================] - 301s 320ms/step - loss: 0.7656 - accuracy: 0.6681 - val_loss: 0.7056 - val_accuracy: 0.6827\n",
            "Epoch 19/20\n",
            "941/941 [==============================] - 302s 321ms/step - loss: 0.7601 - accuracy: 0.6743 - val_loss: 0.7261 - val_accuracy: 0.6732\n",
            "Epoch 20/20\n",
            "941/941 [==============================] - 302s 321ms/step - loss: 0.7251 - accuracy: 0.6933 - val_loss: 0.6830 - val_accuracy: 0.7099\n"
          ]
        }
      ],
      "source": [
        "history = lstm_model.fit(X_train, Y_train, epochs = 40, validation_split = 0.20, batch_size = 25, verbose = 1)"
      ]
    },
    {
      "cell_type": "code",
      "execution_count": null,
      "metadata": {
        "colab": {
          "base_uri": "https://localhost:8080/"
        },
        "id": "54dovHCxgxte",
        "outputId": "83a0f3d5-6157-4e6b-e228-c3552e545589"
      },
      "outputs": [
        {
          "name": "stderr",
          "output_type": "stream",
          "text": [
            "WARNING:absl:Found untraced functions such as lstm_cell_6_layer_call_fn, lstm_cell_6_layer_call_and_return_conditional_losses, lstm_cell_7_layer_call_fn, lstm_cell_7_layer_call_and_return_conditional_losses while saving (showing 4 of 4). These functions will not be directly callable after loading.\n"
          ]
        }
      ],
      "source": [
        "lstm_model.save('/content/drive/MyDrive/ArrythmiaRasp')\n",
        "np.save('/content/drive/MyDrive/ArrythmiaRasp/my_history.npy',history.history)"
      ]
    },
    {
      "cell_type": "markdown",
      "metadata": {
        "id": "14sUfeUB5Yfk"
      },
      "source": [
        "##Merging"
      ]
    },
    {
      "cell_type": "code",
      "execution_count": null,
      "metadata": {
        "colab": {
          "base_uri": "https://localhost:8080/"
        },
        "id": "g-Y3vuCj5aRq",
        "outputId": "8aeee175-cf0d-4b8c-a9c1-dda8f3d353c4"
      },
      "outputs": [
        {
          "name": "stdout",
          "output_type": "stream",
          "text": [
            "Model: \"model\"\n",
            "__________________________________________________________________________________________________\n",
            " Layer (type)                   Output Shape         Param #     Connected to                     \n",
            "==================================================================================================\n",
            " conv1d_input (InputLayer)      [(None, 5000, 12)]   0           []                               \n",
            "                                                                                                  \n",
            " conv1d (Conv1D)                (None, 5000, 6)      222         ['conv1d_input[0][0]']           \n",
            "                                                                                                  \n",
            " batch_normalization (BatchNorm  (None, 5000, 6)     24          ['conv1d[0][0]']                 \n",
            " alization)                                                                                       \n",
            "                                                                                                  \n",
            " activation (Activation)        (None, 5000, 6)      0           ['batch_normalization[0][0]']    \n",
            "                                                                                                  \n",
            " max_pooling1d (MaxPooling1D)   (None, 2500, 6)      0           ['activation[0][0]']             \n",
            "                                                                                                  \n",
            " conv1d_1 (Conv1D)              (None, 2496, 16)     496         ['max_pooling1d[0][0]']          \n",
            "                                                                                                  \n",
            " batch_normalization_1 (BatchNo  (None, 2496, 16)    64          ['conv1d_1[0][0]']               \n",
            " rmalization)                                                                                     \n",
            "                                                                                                  \n",
            " activation_1 (Activation)      (None, 2496, 16)     0           ['batch_normalization_1[0][0]']  \n",
            "                                                                                                  \n",
            " lstm_input (InputLayer)        [(None, 5000, 12)]   0           []                               \n",
            "                                                                                                  \n",
            " max_pooling1d_1 (MaxPooling1D)  (None, 1248, 16)    0           ['activation_1[0][0]']           \n",
            "                                                                                                  \n",
            " lstm (LSTM)                    (None, 5000, 64)     19712       ['lstm_input[0][0]']             \n",
            "                                                                                                  \n",
            " global_average_pooling1d (Glob  (None, 16)          0           ['max_pooling1d_1[0][0]']        \n",
            " alAveragePooling1D)                                                                              \n",
            "                                                                                                  \n",
            " lstm_1 (LSTM)                  (None, 64)           33024       ['lstm[0][0]']                   \n",
            "                                                                                                  \n",
            " dense (Dense)                  (None, 64)           1088        ['global_average_pooling1d[0][0]'\n",
            "                                                                 ]                                \n",
            "                                                                                                  \n",
            " dense_3 (Dense)                (None, 32)           2080        ['lstm_1[0][0]']                 \n",
            "                                                                                                  \n",
            " dense_1 (Dense)                (None, 32)           2080        ['dense[0][0]']                  \n",
            "                                                                                                  \n",
            " dense_4 (Dense)                (None, 5)            165         ['dense_3[0][0]']                \n",
            "                                                                                                  \n",
            " dense_2 (Dense)                (None, 5)            165         ['dense_1[0][0]']                \n",
            "                                                                                                  \n",
            " add (Add)                      (None, 5)            0           ['dense_4[0][0]',                \n",
            "                                                                  'dense_2[0][0]']                \n",
            "                                                                                                  \n",
            "==================================================================================================\n",
            "Total params: 59,120\n",
            "Trainable params: 59,076\n",
            "Non-trainable params: 44\n",
            "__________________________________________________________________________________________________\n"
          ]
        }
      ],
      "source": [
        "mergedOut = Add()([model1.output, lenet_5_model.output])\n",
        "newModel = Model([model1.input, lenet_5_model.input], mergedOut)\n",
        "newModel.summary()\n",
        "\n",
        "newModel.compile(optimizer=opt,\n",
        "                 loss='categorical_crossentropy',\n",
        "                 metrics=['accuracy'])"
      ]
    },
    {
      "cell_type": "code",
      "execution_count": null,
      "metadata": {
        "colab": {
          "base_uri": "https://localhost:8080/",
          "height": 348
        },
        "id": "8FjzUtfyOwgx",
        "outputId": "3143b6b0-5466-4de1-e35c-d870eb0c0767"
      },
      "outputs": [
        {
          "ename": "InternalError",
          "evalue": "ignored",
          "output_type": "error",
          "traceback": [
            "\u001b[0;31m---------------------------------------------------------------------------\u001b[0m",
            "\u001b[0;31mInternalError\u001b[0m                             Traceback (most recent call last)",
            "\u001b[0;32m<ipython-input-32-adf5e8159ea0>\u001b[0m in \u001b[0;36m<module>\u001b[0;34m\u001b[0m\n\u001b[0;32m----> 1\u001b[0;31m \u001b[0mnewModel\u001b[0m\u001b[0;34m.\u001b[0m\u001b[0mfit\u001b[0m\u001b[0;34m(\u001b[0m\u001b[0;34m[\u001b[0m\u001b[0mX_train\u001b[0m\u001b[0;34m,\u001b[0m \u001b[0mX_train\u001b[0m\u001b[0;34m]\u001b[0m\u001b[0;34m,\u001b[0m \u001b[0mY_train\u001b[0m\u001b[0;34m,\u001b[0m \u001b[0mepochs\u001b[0m\u001b[0;34m=\u001b[0m\u001b[0;36m50\u001b[0m\u001b[0;34m,\u001b[0m \u001b[0mbatch_size\u001b[0m\u001b[0;34m=\u001b[0m\u001b[0;36m20\u001b[0m\u001b[0;34m,\u001b[0m \u001b[0mshuffle\u001b[0m\u001b[0;34m=\u001b[0m\u001b[0;32mFalse\u001b[0m\u001b[0;34m)\u001b[0m\u001b[0;34m\u001b[0m\u001b[0;34m\u001b[0m\u001b[0m\n\u001b[0m",
            "\u001b[0;32m/usr/local/lib/python3.7/dist-packages/keras/utils/traceback_utils.py\u001b[0m in \u001b[0;36merror_handler\u001b[0;34m(*args, **kwargs)\u001b[0m\n\u001b[1;32m     65\u001b[0m     \u001b[0;32mexcept\u001b[0m \u001b[0mException\u001b[0m \u001b[0;32mas\u001b[0m \u001b[0me\u001b[0m\u001b[0;34m:\u001b[0m  \u001b[0;31m# pylint: disable=broad-except\u001b[0m\u001b[0;34m\u001b[0m\u001b[0;34m\u001b[0m\u001b[0m\n\u001b[1;32m     66\u001b[0m       \u001b[0mfiltered_tb\u001b[0m \u001b[0;34m=\u001b[0m \u001b[0m_process_traceback_frames\u001b[0m\u001b[0;34m(\u001b[0m\u001b[0me\u001b[0m\u001b[0;34m.\u001b[0m\u001b[0m__traceback__\u001b[0m\u001b[0;34m)\u001b[0m\u001b[0;34m\u001b[0m\u001b[0;34m\u001b[0m\u001b[0m\n\u001b[0;32m---> 67\u001b[0;31m       \u001b[0;32mraise\u001b[0m \u001b[0me\u001b[0m\u001b[0;34m.\u001b[0m\u001b[0mwith_traceback\u001b[0m\u001b[0;34m(\u001b[0m\u001b[0mfiltered_tb\u001b[0m\u001b[0;34m)\u001b[0m \u001b[0;32mfrom\u001b[0m \u001b[0;32mNone\u001b[0m\u001b[0;34m\u001b[0m\u001b[0;34m\u001b[0m\u001b[0m\n\u001b[0m\u001b[1;32m     68\u001b[0m     \u001b[0;32mfinally\u001b[0m\u001b[0;34m:\u001b[0m\u001b[0;34m\u001b[0m\u001b[0;34m\u001b[0m\u001b[0m\n\u001b[1;32m     69\u001b[0m       \u001b[0;32mdel\u001b[0m \u001b[0mfiltered_tb\u001b[0m\u001b[0;34m\u001b[0m\u001b[0;34m\u001b[0m\u001b[0m\n",
            "\u001b[0;32m/usr/local/lib/python3.7/dist-packages/tensorflow/python/framework/constant_op.py\u001b[0m in \u001b[0;36mconvert_to_eager_tensor\u001b[0;34m(value, ctx, dtype)\u001b[0m\n\u001b[1;32m    100\u001b[0m       \u001b[0mdtype\u001b[0m \u001b[0;34m=\u001b[0m \u001b[0mdtypes\u001b[0m\u001b[0;34m.\u001b[0m\u001b[0mas_dtype\u001b[0m\u001b[0;34m(\u001b[0m\u001b[0mdtype\u001b[0m\u001b[0;34m)\u001b[0m\u001b[0;34m.\u001b[0m\u001b[0mas_datatype_enum\u001b[0m\u001b[0;34m\u001b[0m\u001b[0;34m\u001b[0m\u001b[0m\n\u001b[1;32m    101\u001b[0m   \u001b[0mctx\u001b[0m\u001b[0;34m.\u001b[0m\u001b[0mensure_initialized\u001b[0m\u001b[0;34m(\u001b[0m\u001b[0;34m)\u001b[0m\u001b[0;34m\u001b[0m\u001b[0;34m\u001b[0m\u001b[0m\n\u001b[0;32m--> 102\u001b[0;31m   \u001b[0;32mreturn\u001b[0m \u001b[0mops\u001b[0m\u001b[0;34m.\u001b[0m\u001b[0mEagerTensor\u001b[0m\u001b[0;34m(\u001b[0m\u001b[0mvalue\u001b[0m\u001b[0;34m,\u001b[0m \u001b[0mctx\u001b[0m\u001b[0;34m.\u001b[0m\u001b[0mdevice_name\u001b[0m\u001b[0;34m,\u001b[0m \u001b[0mdtype\u001b[0m\u001b[0;34m)\u001b[0m\u001b[0;34m\u001b[0m\u001b[0;34m\u001b[0m\u001b[0m\n\u001b[0m\u001b[1;32m    103\u001b[0m \u001b[0;34m\u001b[0m\u001b[0m\n\u001b[1;32m    104\u001b[0m \u001b[0;34m\u001b[0m\u001b[0m\n",
            "\u001b[0;31mInternalError\u001b[0m: Failed copying input tensor from /job:localhost/replica:0/task:0/device:CPU:0 to /job:localhost/replica:0/task:0/device:GPU:0 in order to run _EagerConst: Dst tensor is not initialized."
          ]
        }
      ],
      "source": [
        "newModel.fit([X_train, X_train], Y_train, epochs=50, batch_size=20, shuffle=False)"
      ]
    },
    {
      "cell_type": "code",
      "execution_count": null,
      "metadata": {
        "id": "UvrEDMEeO36a"
      },
      "outputs": [],
      "source": [
        "tf.config.run_functions_eagerly(True)"
      ]
    },
    {
      "cell_type": "markdown",
      "metadata": {
        "id": "gzrM5Esbals9"
      },
      "source": [
        "#Model Conversion"
      ]
    },
    {
      "cell_type": "code",
      "execution_count": null,
      "metadata": {
        "id": "EsW6LoV7anbb",
        "colab": {
          "base_uri": "https://localhost:8080/"
        },
        "outputId": "0862033c-23c0-4275-af1e-4b3fec95cdb5"
      },
      "outputs": [
        {
          "output_type": "stream",
          "name": "stdout",
          "text": [
            "Mounted at /content/drive\n"
          ]
        }
      ],
      "source": [
        "from google.colab import drive\n",
        "drive.mount('/content/drive')"
      ]
    },
    {
      "cell_type": "code",
      "source": [
        "model_rn.save('/content/drive/MyDrive/ArrythmiaRasp/Saved')"
      ],
      "metadata": {
        "colab": {
          "base_uri": "https://localhost:8080/"
        },
        "id": "WA_3hCLZM0D8",
        "outputId": "b685aa0f-80cf-486d-a181-8aac61ce9913"
      },
      "execution_count": null,
      "outputs": [
        {
          "output_type": "stream",
          "name": "stderr",
          "text": [
            "WARNING:absl:Found untraced functions such as _jit_compiled_convolution_op, _jit_compiled_convolution_op, _jit_compiled_convolution_op, _jit_compiled_convolution_op, _jit_compiled_convolution_op while saving (showing 5 of 11). These functions will not be directly callable after loading.\n"
          ]
        }
      ]
    },
    {
      "cell_type": "code",
      "source": [
        "model_rn.save_weights('/content/drive/MyDrive/ArrythmiaRasp/Saved')"
      ],
      "metadata": {
        "id": "PFSblFSaOdif"
      },
      "execution_count": null,
      "outputs": []
    },
    {
      "cell_type": "markdown",
      "metadata": {
        "id": "gb5r5PDwEquw"
      },
      "source": [
        "#Model evaluation"
      ]
    },
    {
      "cell_type": "code",
      "execution_count": null,
      "metadata": {
        "id": "JdQ1SA7BEsyR"
      },
      "outputs": [],
      "source": [
        "X_batch, Y_batch = open_data(\"train\", 1)\n",
        "X_batch = X_batch.reshape((len(X_batch),5000,12))\n",
        "results = model_rn.evaluate(X_batch, Y_batch, batch_size=128)"
      ]
    },
    {
      "cell_type": "code",
      "source": [
        "X_test = X_test.reshape((len(X_test),5000,12))\n",
        "results = model_rn.evaluate(X_test, Y_test, batch_size=128)"
      ],
      "metadata": {
        "colab": {
          "base_uri": "https://localhost:8080/"
        },
        "id": "jlrmDbkrJEeO",
        "outputId": "a395d6c6-fd47-4bff-813d-ac73c009de17"
      },
      "execution_count": null,
      "outputs": [
        {
          "output_type": "stream",
          "name": "stdout",
          "text": [
            "58/58 [==============================] - 3s 53ms/step - loss: 0.0374 - accuracy: 0.9871\n"
          ]
        }
      ]
    },
    {
      "cell_type": "code",
      "execution_count": null,
      "metadata": {
        "id": "An-TzUjkGXSS"
      },
      "outputs": [],
      "source": [
        "from sklearn.metrics import plot_confusion_matrix\n",
        "class estimator:\n",
        "  _estimator_type = ''\n",
        "  classes_=[]\n",
        "  def __init__(self, model, classes):\n",
        "    self.model = model\n",
        "    self._estimator_type = 'classifier'\n",
        "    self.classes_ = classes\n",
        "  def predict(self, X):\n",
        "    y_prob= self.model.predict(X)\n",
        "    y_pred = y_prob.argmax(axis=1)\n",
        "    return y_pred\n",
        "\n",
        "labels = [\"SR\", \"SA\", \"SB\", \"AF\", \"AFIB\"]"
      ]
    },
    {
      "cell_type": "code",
      "execution_count": null,
      "metadata": {
        "id": "joprv3y_Hfj9"
      },
      "outputs": [],
      "source": [
        "classifier = estimator(model_rn, labels)\n",
        "plot_confusion_matrix(estimator=classifier, X=X_batch, y_true=Y_batch)"
      ]
    },
    {
      "cell_type": "code",
      "execution_count": null,
      "metadata": {
        "id": "abJ3XqqqIWP1"
      },
      "outputs": [],
      "source": [
        "figsize = (12,12)\n",
        "plot_confusion_matrix(estimator=classifier, X=test_data, \n",
        "                      y_true=test_labels, cmap='Blues', \n",
        "                      normalize='true', ax=plt.subplots(figsize=figsize)[1])"
      ]
    },
    {
      "cell_type": "code",
      "execution_count": null,
      "metadata": {
        "colab": {
          "base_uri": "https://localhost:8080/"
        },
        "id": "9HrJ0BZVNEX3",
        "outputId": "b21c4da1-07ae-4a4f-d833-8ada472ddff5"
      },
      "outputs": [
        {
          "output_type": "stream",
          "name": "stdout",
          "text": [
            "230/230 [==============================] - 4s 15ms/step\n"
          ]
        },
        {
          "output_type": "execute_result",
          "data": {
            "text/plain": [
              "array([[2.1747560e-03, 9.9769324e-01],\n",
              "       [9.9997044e-01, 2.7877992e-05],\n",
              "       [9.9999464e-01, 5.3670069e-06],\n",
              "       ...,\n",
              "       [9.8866397e-01, 1.1178374e-02],\n",
              "       [9.9958438e-01, 3.9734170e-04],\n",
              "       [5.4685483e-03, 9.9489921e-01]], dtype=float32)"
            ]
          },
          "metadata": {},
          "execution_count": 72
        }
      ],
      "source": [
        "preds = model_rn.predict(X_test)\n",
        "preds"
      ]
    },
    {
      "cell_type": "code",
      "execution_count": null,
      "metadata": {
        "id": "X9hDrYH1OeM5"
      },
      "outputs": [],
      "source": [
        "y_pred = (preds > 0.5)\n",
        "y_pred = np.argmax(y_pred, axis=1)\n",
        "y_true = Y_test>0.5\n",
        "y_true = np.argmax(y_true, axis=1)"
      ]
    },
    {
      "cell_type": "code",
      "execution_count": null,
      "metadata": {
        "colab": {
          "base_uri": "https://localhost:8080/",
          "height": 467
        },
        "id": "FGivaYimLEfi",
        "outputId": "eb08da43-0c1a-4e5d-c120-33653f5aa2cd"
      },
      "outputs": [
        {
          "output_type": "display_data",
          "data": {
            "text/plain": [
              "<Figure size 576x432 with 2 Axes>"
            ],
            "image/png": "[encoded data removed]"
          },
          "metadata": {
            "needs_background": "light"
          }
        }
      ],
      "source": [
        "import sklearn.metrics\n",
        "cm = sklearn.metrics.confusion_matrix(y_true, y_pred)\n",
        "\n",
        "plot_confusion_matrix(cm=cm,\n",
        "                      normalize=False,\n",
        "                      target_names = labels_bin,\n",
        "                      title        = \"Confusion Matrix\")"
      ]
    },
    {
      "cell_type": "code",
      "execution_count": null,
      "metadata": {
        "id": "WrOhQWkSLbWA"
      },
      "outputs": [],
      "source": [
        "import numpy as np\n",
        "\n",
        "\n",
        "def plot_confusion_matrix(cm,\n",
        "                          target_names,\n",
        "                          title='Confusion matrix',\n",
        "                          cmap=None,\n",
        "                          normalize=True):\n",
        "\n",
        "    import matplotlib.pyplot as plt\n",
        "    import numpy as np\n",
        "    import itertools\n",
        "\n",
        "    accuracy = np.trace(cm) / float(np.sum(cm))\n",
        "    misclass = 1 - accuracy\n",
        "\n",
        "    if cmap is None:\n",
        "        cmap = plt.get_cmap('Blues')\n",
        "\n",
        "    plt.figure(figsize=(8, 6))\n",
        "    plt.imshow(cm, interpolation='nearest', cmap=cmap)\n",
        "    plt.title(title)\n",
        "    plt.colorbar()\n",
        "\n",
        "    if target_names is not None:\n",
        "        tick_marks = np.arange(len(target_names))\n",
        "        plt.xticks(tick_marks, target_names, rotation=45)\n",
        "        plt.yticks(tick_marks, target_names)\n",
        "\n",
        "    if normalize:\n",
        "        cm = cm.astype('float') / cm.sum(axis=1)[:, np.newaxis]\n",
        "\n",
        "\n",
        "    thresh = cm.max() / 1.5 if normalize else cm.max() / 2\n",
        "    for i, j in itertools.product(range(cm.shape[0]), range(cm.shape[1])):\n",
        "        if normalize:\n",
        "            plt.text(j, i, \"{:0.4f}\".format(cm[i, j]),\n",
        "                     horizontalalignment=\"center\",\n",
        "                     color=\"white\" if cm[i, j] > thresh else \"black\")\n",
        "        else:\n",
        "            plt.text(j, i, \"{:,}\".format(cm[i, j]),\n",
        "                     horizontalalignment=\"center\",\n",
        "                     color=\"white\" if cm[i, j] > thresh else \"black\")\n",
        "\n",
        "\n",
        "    plt.tight_layout()\n",
        "    plt.ylabel('True label')\n",
        "    plt.xlabel('Predicted label\\naccuracy={:0.4f}; misclass={:0.4f}'.format(accuracy, misclass))\n",
        "    plt.savefig(\"confusion_matrix.png\", bbox_inches='tight')\n",
        "    plt.show()\n"
      ]
    },
    {
      "cell_type": "markdown",
      "metadata": {
        "id": "9EB1WD4sFNPl"
      },
      "source": [
        "#Save Results"
      ]
    },
    {
      "cell_type": "code",
      "execution_count": null,
      "metadata": {
        "colab": {
          "base_uri": "https://localhost:8080/"
        },
        "id": "Hua4UbvZFOX8",
        "outputId": "f609ec35-4c12-4550-e6b8-33d60a8c1a9e"
      },
      "outputs": [
        {
          "name": "stdout",
          "output_type": "stream",
          "text": [
            "Drive already mounted at /content/drive; to attempt to forcibly remount, call drive.mount(\"/content/drive\", force_remount=True).\n"
          ]
        }
      ],
      "source": [
        "from google.colab import drive\n",
        "drive.mount(\"/content/drive\")\n"
      ]
    },
    {
      "cell_type": "code",
      "execution_count": null,
      "metadata": {
        "id": "PocdwhHhRX1F"
      },
      "outputs": [],
      "source": [
        "model_rn.save_weights(\"/content/drive/MyDrive/ArrythmiaRasp/Saved/weights_rnn.h5\")\n"
      ]
    },
    {
      "cell_type": "code",
      "source": [
        "import pickle\n",
        "\n",
        "with open(\"/content/drive/MyDrive/ArrythmiaRasp/Saved/histories\", \"wb\") as fp:\n",
        "    pickle.dump(histories, fp)\n"
      ],
      "metadata": {
        "colab": {
          "base_uri": "https://localhost:8080/"
        },
        "id": "dCG0ml49R4t9",
        "outputId": "c46c835a-0ac0-447a-b1af-a4912c3b74db"
      },
      "execution_count": null,
      "outputs": [
        {
          "output_type": "stream",
          "name": "stderr",
          "text": [
            "WARNING:absl:Found untraced functions such as _jit_compiled_convolution_op, _jit_compiled_convolution_op, _jit_compiled_convolution_op, _jit_compiled_convolution_op, _jit_compiled_convolution_op while saving (showing 5 of 11). These functions will not be directly callable after loading.\n",
            "WARNING:absl:Found untraced functions such as _jit_compiled_convolution_op, _jit_compiled_convolution_op, _jit_compiled_convolution_op, _jit_compiled_convolution_op, _jit_compiled_convolution_op while saving (showing 5 of 11). These functions will not be directly callable after loading.\n"
          ]
        }
      ]
    },
    {
      "cell_type": "code",
      "source": [
        "with open(\"test\", \"rb\") as fp:\n",
        "  histories = pickle.load(fp)\n",
        "\n",
        "len(histories)"
      ],
      "metadata": {
        "colab": {
          "base_uri": "https://localhost:8080/"
        },
        "id": "-2Z8MYmbSexs",
        "outputId": "1f9400a4-c446-4390-a22f-19c3bcedcdb6"
      },
      "execution_count": null,
      "outputs": [
        {
          "output_type": "execute_result",
          "data": {
            "text/plain": [
              "30"
            ]
          },
          "metadata": {},
          "execution_count": 89
        }
      ]
    },
    {
      "cell_type": "markdown",
      "source": [
        "#TensorFlowLite\n",
        "##Converting the model"
      ],
      "metadata": {
        "id": "o_-VY5LMU1Ox"
      }
    },
    {
      "cell_type": "code",
      "source": [
        "saved_model_dir = '/content/drive/MyDrive/ArrythmiaRasp/Saved'"
      ],
      "metadata": {
        "id": "4o2Q-FUZYOHF"
      },
      "execution_count": null,
      "outputs": []
    },
    {
      "cell_type": "code",
      "source": [
        "converter = tf.lite.TFLiteConverter.from_saved_model(saved_model_dir) # path to the SavedModel directory\n",
        "tflite_model = converter.convert()"
      ],
      "metadata": {
        "id": "RLfGfF2sU6Gf"
      },
      "execution_count": null,
      "outputs": []
    },
    {
      "cell_type": "code",
      "source": [
        "with open('/content/drive/MyDrive/ArrythmiaRasp/Saved/model_rn.tflite', 'wb') as f:\n",
        "  f.write(tflite_model)"
      ],
      "metadata": {
        "id": "AulUtcrpWp05"
      },
      "execution_count": null,
      "outputs": []
    },
    {
      "cell_type": "markdown",
      "source": [
        "##Dynamic range quantization"
      ],
      "metadata": {
        "id": "w64nvA88Yxsl"
      }
    },
    {
      "cell_type": "code",
      "source": [
        "converter = tf.lite.TFLiteConverter.from_saved_model(saved_model_dir)\n",
        "converter.optimizations = [tf.lite.Optimize.DEFAULT]\n",
        "tflite_quant_model = converter.convert()"
      ],
      "metadata": {
        "id": "-72I5lT7Wt6J"
      },
      "execution_count": null,
      "outputs": []
    },
    {
      "cell_type": "code",
      "source": [
        "with open('/content/drive/MyDrive/ArrythmiaRasp/Saved/model_rn_quant.tflite', 'wb') as f:\n",
        "  f.write(tflite_quant_model)"
      ],
      "metadata": {
        "id": "DFdXWWFKYVX5"
      },
      "execution_count": null,
      "outputs": []
    },
    {
      "cell_type": "markdown",
      "source": [
        "##Float 16 quantization"
      ],
      "metadata": {
        "id": "g5uXJKU6Y0C_"
      }
    },
    {
      "cell_type": "code",
      "source": [
        "converter = tf.lite.TFLiteConverter.from_saved_model(saved_model_dir)\n",
        "converter.optimizations = [tf.lite.Optimize.DEFAULT]\n",
        "converter.target_spec.supported_types = [tf.float16]\n",
        "tflite_float16_model = converter.convert()"
      ],
      "metadata": {
        "id": "G_uVhe4qYlmb"
      },
      "execution_count": null,
      "outputs": []
    },
    {
      "cell_type": "code",
      "source": [
        "!gdown 1-B5Lw-0VDCcmTuZDOzLBUTJe_BddoD9D"
      ],
      "metadata": {
        "colab": {
          "base_uri": "https://localhost:8080/"
        },
        "id": "d8o9LuUFUIoZ",
        "outputId": "d4230926-dce9-40b3-b190-67336f1aeafd"
      },
      "execution_count": null,
      "outputs": [
        {
          "output_type": "stream",
          "name": "stdout",
          "text": [
            "Downloading...\n",
            "From: https://drive.google.com/uc?id=1-B5Lw-0VDCcmTuZDOzLBUTJe_BddoD9D\n",
            "To: /content/saved_model.pb\n",
            "\r  0% 0.00/1.01M [00:00<?, ?B/s]\r100% 1.01M/1.01M [00:00<00:00, 109MB/s]\n"
          ]
        }
      ]
    },
    {
      "cell_type": "code",
      "source": [
        "from google.colab import drive\n",
        "drive.mount('/content/drive')"
      ],
      "metadata": {
        "colab": {
          "base_uri": "https://localhost:8080/"
        },
        "id": "sHpRp6VGUU6Q",
        "outputId": "f373a396-ab8f-4dfc-d071-825c82e01c9b"
      },
      "execution_count": null,
      "outputs": [
        {
          "output_type": "stream",
          "name": "stdout",
          "text": [
            "Mounted at /content/drive\n"
          ]
        }
      ]
    },
    {
      "cell_type": "code",
      "source": [
        "!pip install tflite_runtime\n"
      ],
      "metadata": {
        "id": "-1ycEke8Zf8O",
        "colab": {
          "base_uri": "https://localhost:8080/"
        },
        "outputId": "a7aaa31b-7898-46a6-d0af-f55f9046f5d1"
      },
      "execution_count": null,
      "outputs": [
        {
          "output_type": "stream",
          "name": "stdout",
          "text": [
            "Looking in indexes: https://pypi.org/simple, https://us-python.pkg.dev/colab-wheels/public/simple/\n",
            "Collecting tflite_runtime\n",
            "  Downloading tflite_runtime-2.10.0-cp37-cp37m-manylinux2014_x86_64.whl (2.5 MB)\n",
            "\u001b[K     |████████████████████████████████| 2.5 MB 6.5 MB/s \n",
            "\u001b[?25hRequirement already satisfied: numpy>=1.19.2 in /usr/local/lib/python3.7/dist-packages (from tflite_runtime) (1.21.6)\n",
            "Installing collected packages: tflite-runtime\n",
            "Successfully installed tflite-runtime-2.10.0\n"
          ]
        }
      ]
    },
    {
      "cell_type": "markdown",
      "source": [
        "interpreter = tf.lite.Interpreter(model_content=tflite_quant_model)\n",
        "signatures = interpreter.get_signature_list()\n",
        "print(signatures)\n"
      ],
      "metadata": {
        "id": "HO4mEFMYbTtc"
      }
    }
  ],
  "metadata": {
    "colab": {
      "collapsed_sections": [
        "hnHa4pBDG7pD",
        "lKMGfCgsrhvv",
        "ntLdKkYcy0sB",
        "mFd9gy9sqbKB",
        "vFDjm63olAnS",
        "1Snz338IxKKK"
      ],
      "provenance": [],
      "toc_visible": true
    },
    "gpuClass": "standard",
    "kernelspec": {
      "display_name": "Python 3",
      "name": "python3"
    },
    "language_info": {
      "name": "python"
    }
  },
  "nbformat": 4,
  "nbformat_minor": 0
}
